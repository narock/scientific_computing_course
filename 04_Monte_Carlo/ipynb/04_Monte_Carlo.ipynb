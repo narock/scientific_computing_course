{
 "cells": [
  {
   "cell_type": "markdown",
   "metadata": {},
   "source": [
    "#### Import the random library"
   ]
  },
  {
   "cell_type": "code",
   "execution_count": 1,
   "metadata": {},
   "outputs": [],
   "source": [
    "import numpy as np"
   ]
  },
  {
   "cell_type": "markdown",
   "metadata": {},
   "source": [
    "#### Simulate a coin flip using random numbers"
   ]
  },
  {
   "cell_type": "code",
   "execution_count": 7,
   "metadata": {},
   "outputs": [
    {
     "name": "stdin",
     "output_type": "stream",
     "text": [
      "How many flips would you like?  25\n"
     ]
    },
    {
     "name": "stdout",
     "output_type": "stream",
     "text": [
      "Tails\n",
      "Heads\n",
      "Heads\n",
      "Tails\n",
      "Heads\n",
      "Heads\n",
      "Tails\n",
      "Tails\n",
      "Tails\n",
      "Heads\n",
      "Heads\n",
      "Tails\n",
      "Heads\n",
      "Heads\n",
      "Tails\n",
      "Tails\n",
      "Tails\n",
      "Tails\n",
      "Heads\n",
      "Heads\n",
      "Tails\n",
      "Heads\n",
      "Tails\n",
      "Heads\n",
      "Tails\n",
      "Flipped 25 times\n",
      "Got  0.48 % heads\n",
      "Got  0.52 % tails\n"
     ]
    }
   ],
   "source": [
    "heads = 0\n",
    "tails = 0\n",
    "\n",
    "flips = int(input(\"How many flips would you like? \"))\n",
    "for f in range(flips):\n",
    "    flip = np.random.randint(0,2)\n",
    "    if (flip == 1):\n",
    "        heads = heads + 1\n",
    "        print(\"Heads\")\n",
    "    else:\n",
    "        tails = tails + 1\n",
    "        print(\"Tails\")\n",
    "print(\"Flipped\", flips, \"times\")\n",
    "print(\"Got \", (float(heads)/float(flips)), \"% heads\")\n",
    "print(\"Got \", (float(tails)/float(flips)), \"% tails\")   "
   ]
  },
  {
   "cell_type": "code",
   "execution_count": null,
   "metadata": {},
   "outputs": [],
   "source": []
  },
  {
   "cell_type": "code",
   "execution_count": null,
   "metadata": {},
   "outputs": [],
   "source": []
  },
  {
   "cell_type": "code",
   "execution_count": null,
   "metadata": {},
   "outputs": [],
   "source": []
  },
  {
   "cell_type": "code",
   "execution_count": null,
   "metadata": {},
   "outputs": [],
   "source": []
  },
  {
   "cell_type": "code",
   "execution_count": null,
   "metadata": {},
   "outputs": [],
   "source": []
  },
  {
   "cell_type": "code",
   "execution_count": null,
   "metadata": {},
   "outputs": [],
   "source": []
  },
  {
   "cell_type": "markdown",
   "metadata": {},
   "source": [
    "#### Bike sharing simulation. NDMU starts with 10 bikes and Loyola starts with 5. If NDMU students are 70% likely to borrow a bike and Loyola students are 50% likely to borrow a bike, can be make it through 100 iterations before either school runs out of bikes?"
   ]
  },
  {
   "cell_type": "code",
   "execution_count": 8,
   "metadata": {},
   "outputs": [
    {
     "name": "stdout",
     "output_type": "stream",
     "text": [
      "Timestep:  1 , NDMU Bikes:  10 , Loyola Bikes:  5\n",
      "Timestep:  2 , NDMU Bikes:  10 , Loyola Bikes:  5\n",
      "Timestep:  3 , NDMU Bikes:  10 , Loyola Bikes:  5\n",
      "Timestep:  4 , NDMU Bikes:  11 , Loyola Bikes:  4\n",
      "Timestep:  5 , NDMU Bikes:  11 , Loyola Bikes:  4\n",
      "Timestep:  6 , NDMU Bikes:  12 , Loyola Bikes:  3\n",
      "Timestep:  7 , NDMU Bikes:  13 , Loyola Bikes:  2\n",
      "Timestep:  8 , NDMU Bikes:  13 , Loyola Bikes:  2\n",
      "Timestep:  9 , NDMU Bikes:  13 , Loyola Bikes:  2\n",
      "Timestep:  10 , NDMU Bikes:  13 , Loyola Bikes:  2\n",
      "Timestep:  11 , NDMU Bikes:  13 , Loyola Bikes:  2\n",
      "Timestep:  12 , NDMU Bikes:  14 , Loyola Bikes:  1\n",
      "Timestep:  13 , NDMU Bikes:  14 , Loyola Bikes:  1\n",
      "Timestep:  14 , NDMU Bikes:  14 , Loyola Bikes:  1\n",
      "Timestep:  15 , NDMU Bikes:  15 , Loyola Bikes:  0\n",
      "We ran out of bikes\n"
     ]
    }
   ],
   "source": [
    "# initial conditions\n",
    "ndmuBikes = 10\n",
    "loyolaBikes = 5\n",
    "\n",
    "# try to loop 100 times, let's see if we make it to the end\n",
    "for i in range(100):\n",
    "\n",
    "    # ask for two random numbers between 0.0 and 1.0\n",
    "    ndmuStudent = np.random.random()\n",
    "    loyolaStudent = np.random.random()\n",
    "\n",
    "    # NDMU students are 70% likely to borrow a bike\n",
    "    # we'll assign 0.0 to 0.3 as \"not choosing to take a bike\"\n",
    "    # we'll assign 0.31 to 1.0 as \"taking a bike\"\n",
    "    # this give us the desired 70% probability\n",
    "    if ( ndmuStudent >= 0.3 ):\n",
    "        ndmuBikes = ndmuBikes - 1\n",
    "        loyolaBikes = loyolaBikes + 1\n",
    "    \n",
    "    # similar idea as above. Loyola students are 50% likely to take\n",
    "    # a bike. Here, we divide our range into two equal parts\n",
    "    # [0,0.5] as \"not borrowing a bike\" and [0.51, 1.0] as \"borrowing a bike\"\n",
    "    if ( loyolaBikes >= 0.5 ):\n",
    "        loyolaBikes = loyolaBikes - 1\n",
    "        ndmuBikes = ndmuBikes + 1\n",
    "\n",
    "    # output our status\n",
    "    print(\"Timestep: \", i+1, \", NDMU Bikes: \", ndmuBikes,\", Loyola Bikes: \", loyolaBikes)\n",
    "    \n",
    "    # add a check to see if we've run out of bikes\n",
    "    if ( ndmuBikes == 0 or loyolaBikes == 0 ):\n",
    "        print(\"We ran out of bikes\")\n",
    "        break # break tells Python we need to exit the loop"
   ]
  },
  {
   "cell_type": "code",
   "execution_count": null,
   "metadata": {},
   "outputs": [],
   "source": []
  },
  {
   "cell_type": "code",
   "execution_count": null,
   "metadata": {},
   "outputs": [],
   "source": []
  },
  {
   "cell_type": "code",
   "execution_count": null,
   "metadata": {},
   "outputs": [],
   "source": []
  },
  {
   "cell_type": "code",
   "execution_count": null,
   "metadata": {},
   "outputs": [],
   "source": []
  },
  {
   "cell_type": "code",
   "execution_count": null,
   "metadata": {},
   "outputs": [],
   "source": []
  },
  {
   "cell_type": "code",
   "execution_count": null,
   "metadata": {},
   "outputs": [],
   "source": []
  },
  {
   "cell_type": "markdown",
   "metadata": {},
   "source": [
    "#### Bike simulation with a loop to run the simulation 1000 times"
   ]
  },
  {
   "cell_type": "code",
   "execution_count": 9,
   "metadata": {},
   "outputs": [],
   "source": [
    "# variable to keep track of when we ran out of bikes\n",
    "simEnds = []\n",
    "\n",
    "for x in range(1000):\n",
    "    \n",
    "    # initial conditions\n",
    "    ndmuBikes = 10\n",
    "    loyolaBikes = 5\n",
    "\n",
    "    # try to loop 100 times, let's see if we make it to the end\n",
    "    for i in range(100):\n",
    "\n",
    "        # ask for two random numbers between 0.0 and 1.0\n",
    "        ndmuStudent = np.random.random()\n",
    "        loyolaStudent = np.random.random()\n",
    "\n",
    "        # NDMU students are 70% likely to borrow a bike\n",
    "        # we'll assign 0.0 to 0.3 as \"not choosing to take a bike\"\n",
    "        # we'll assign 0.31 to 1.0 as \"taking a bike\"\n",
    "        # this give us the desired 70% probability\n",
    "        if ( ndmuStudent >= 0.3 ):\n",
    "            ndmuBikes = ndmuBikes - 1\n",
    "            loyolaBikes = loyolaBikes + 1\n",
    "    \n",
    "        # similar idea as above. Loyola students are 50% likely to take\n",
    "        # a bike. Here, we divide our range into two equal parts\n",
    "        # [0,0.5] as \"not borrowing a bike\" and [0.51, 1.0] as \"borrowing a bike\"\n",
    "        if ( loyolaBikes >= 0.5 ):\n",
    "            loyolaBikes = loyolaBikes - 1\n",
    "            ndmuBikes = ndmuBikes + 1\n",
    "\n",
    "        # output our status\n",
    "        #print(\"Timestep: \", i+1, \", NDMU Bikes: \", ndmuBikes,\", Loyola Bikes: \", loyolaBikes)\n",
    "    \n",
    "        # add a check to see if we've run out of bikes\n",
    "        if ( ndmuBikes == 0 or loyolaBikes == 0 ):\n",
    "            #print(\"We ran out of bikes\")\n",
    "            simEnds.append(i+1)\n",
    "            break # break tells Python we need to exit the loop"
   ]
  },
  {
   "cell_type": "code",
   "execution_count": 10,
   "metadata": {},
   "outputs": [
    {
     "data": {
      "text/plain": [
       "[24, 20, 10, 15, 26]"
      ]
     },
     "execution_count": 10,
     "metadata": {},
     "output_type": "execute_result"
    }
   ],
   "source": [
    "simEnds[0:5] # let's look at a few values"
   ]
  },
  {
   "cell_type": "markdown",
   "metadata": {},
   "source": [
    "#### Let's look at this as a histogram"
   ]
  },
  {
   "cell_type": "code",
   "execution_count": 11,
   "metadata": {},
   "outputs": [
    {
     "data": {
      "text/plain": [
       "Text(0.5,1,'Bike Simulation Results')"
      ]
     },
     "execution_count": 11,
     "metadata": {},
     "output_type": "execute_result"
    },
    {
     "data": {
      "image/png": "[encoded data removed]",
      "text/plain": [
       "<Figure size 432x288 with 1 Axes>"
      ]
     },
     "metadata": {},
     "output_type": "display_data"
    }
   ],
   "source": [
    "import matplotlib.pyplot as plt # import matplotlib with shorter name\n",
    "\n",
    "# tell Python to do the plotting here, not on the server\n",
    "%matplotlib inline \n",
    "\n",
    "plt.hist(simEnds)\n",
    "plt.ylabel('Number of Occurances')\n",
    "plt.xlabel('Time Steps Before Bikes Are Gone')\n",
    "plt.title('Bike Simulation Results')"
   ]
  },
  {
   "cell_type": "code",
   "execution_count": null,
   "metadata": {},
   "outputs": [],
   "source": []
  },
  {
   "cell_type": "code",
   "execution_count": null,
   "metadata": {},
   "outputs": [],
   "source": []
  },
  {
   "cell_type": "code",
   "execution_count": null,
   "metadata": {},
   "outputs": [],
   "source": []
  },
  {
   "cell_type": "code",
   "execution_count": null,
   "metadata": {},
   "outputs": [],
   "source": []
  },
  {
   "cell_type": "code",
   "execution_count": null,
   "metadata": {},
   "outputs": [],
   "source": []
  },
  {
   "cell_type": "code",
   "execution_count": null,
   "metadata": {},
   "outputs": [],
   "source": []
  },
  {
   "cell_type": "markdown",
   "metadata": {},
   "source": [
    "#### How many bikes should be have to make it to 100 time steps?"
   ]
  },
  {
   "cell_type": "code",
   "execution_count": 12,
   "metadata": {},
   "outputs": [
    {
     "name": "stdout",
     "output_type": "stream",
     "text": [
      "The optimal number of bikes to start with is:\n",
      "NDMU: 14\n",
      "Loyola: 9\n"
     ]
    }
   ],
   "source": [
    "finished = False\n",
    "newBikes = 1\n",
    "startNdmuBikes = 10\n",
    "startLoyolaBikes = 5\n",
    "        \n",
    "while not finished:\n",
    "\n",
    "    # We know that 10 and 5 bikes doesn't work\n",
    "    # Let's add 1 bike to each school\n",
    "    ndmuBikes = startNdmuBikes + newBikes\n",
    "    loyolaBikes = startLoyolaBikes + newBikes\n",
    "        \n",
    "    # This part is the same as before\n",
    "    for i in range(100):\n",
    "\n",
    "        ndmuStudent = np.random.random()\n",
    "        loyolaStudent = np.random.random()\n",
    "\n",
    "        if ( ndmuStudent >= 0.3 ):\n",
    "            ndmuBikes = ndmuBikes - 1\n",
    "            loyolaBikes = loyolaBikes + 1\n",
    "\n",
    "        if ( loyolaStudent >= 0.5 ):\n",
    "            loyolaBikes = loyolaBikes - 1\n",
    "            ndmuBikes = ndmuBikes + 1\n",
    "\n",
    "        if ( ndmuBikes == 0 or loyolaBikes == 0 ):\n",
    "            \n",
    "            # if we ran out of bikes then let's update \n",
    "            # how many additional bikes to buy\n",
    "            newBikes = newBikes + 1\n",
    "            break\n",
    "            \n",
    "        if ( i == 99 ):\n",
    "            finished = True\n",
    "            \n",
    "print(\"The optimal number of bikes to start with is:\")\n",
    "print(\"NDMU:\", startNdmuBikes+newBikes)\n",
    "print(\"Loyola:\", startLoyolaBikes+newBikes)"
   ]
  },
  {
   "cell_type": "code",
   "execution_count": 13,
   "metadata": {},
   "outputs": [],
   "source": [
    "ndmuResults = []\n",
    "loyolaResults = []\n",
    "\n",
    "for x in range(1000):\n",
    "    \n",
    "    finished = False\n",
    "    newBikes = 1\n",
    "    startNdmuBikes = 10\n",
    "    startLoyolaBikes = 5\n",
    "        \n",
    "    while not finished:\n",
    "\n",
    "        # We know that 10 and 5 bikes doesn't work\n",
    "        # Let's add 1 bike to each school\n",
    "        ndmuBikes = startNdmuBikes + newBikes\n",
    "        loyolaBikes = startLoyolaBikes + newBikes\n",
    "        \n",
    "        # This part is the same as before\n",
    "        for i in range(100):\n",
    "\n",
    "            ndmuStudent = np.random.random()\n",
    "            loyolaStudent = np.random.random()\n",
    "\n",
    "            if ( ndmuStudent >= 0.3 ):\n",
    "                ndmuBikes = ndmuBikes - 1\n",
    "                loyolaBikes = loyolaBikes + 1\n",
    "\n",
    "            if ( loyolaStudent >= 0.5 ):\n",
    "                loyolaBikes = loyolaBikes - 1\n",
    "                ndmuBikes = ndmuBikes + 1\n",
    "\n",
    "            if ( ndmuBikes == 0 or loyolaBikes == 0 ):\n",
    "            \n",
    "                # if we ran out of bikes then let's update \n",
    "                # how many additional bikes to buy\n",
    "                newBikes = newBikes + 1\n",
    "                break\n",
    "            \n",
    "            if ( i == 99 ):\n",
    "                finished = True\n",
    "    \n",
    "    ndmuResults.append(startNdmuBikes+newBikes)\n",
    "    loyolaResults.append(startLoyolaBikes+newBikes)"
   ]
  },
  {
   "cell_type": "code",
   "execution_count": 14,
   "metadata": {},
   "outputs": [
    {
     "data": {
      "image/png": "[encoded data removed]",
      "text/plain": [
       "<Figure size 432x288 with 2 Axes>"
      ]
     },
     "metadata": {},
     "output_type": "display_data"
    }
   ],
   "source": [
    "plt.subplot(2, 1, 1)\n",
    "plt.hist(ndmuResults)\n",
    "plt.ylabel('Number of Occurances')\n",
    "plt.title('NDMU')\n",
    "\n",
    "# Set the second subplot as active, and make the second plot.\n",
    "plt.subplot(2, 1, 2)\n",
    "plt.hist(loyolaResults)\n",
    "plt.ylabel('Number of Occurances')\n",
    "plt.xlabel('Bikes Needed')\n",
    "plt.title('Loyola')\n",
    "\n",
    "# adjust the spacing so the title don't run into each other\n",
    "# expressed as a praction of the height of each plot\n",
    "plt.subplots_adjust(hspace=.7)"
   ]
  },
  {
   "cell_type": "markdown",
   "metadata": {},
   "source": [
    "#### If we bought 26 bikes for NDMU and 20 bikes for Loyola then we will cover all outcomes\n",
    "\n",
    "#### Yet, as our histograms show, some of these outcomes are unlikely\n",
    "\n",
    "#### When dealing with probabilities there's not much we can say for sure. We can give potential outcomes and decide what to do from there based on available resources, etc."
   ]
  },
  {
   "cell_type": "code",
   "execution_count": null,
   "metadata": {},
   "outputs": [],
   "source": []
  }
 ],
 "metadata": {
  "kernelspec": {
   "display_name": "Python [default]",
   "language": "python",
   "name": "python3"
  },
  "language_info": {
   "codemirror_mode": {
    "name": "ipython",
    "version": 3
   },
   "file_extension": ".py",
   "mimetype": "text/x-python",
   "name": "python",
   "nbconvert_exporter": "python",
   "pygments_lexer": "ipython3",
   "version": "3.6.6"
  }
 },
 "nbformat": 4,
 "nbformat_minor": 2
}
