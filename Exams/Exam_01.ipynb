{
 "cells": [
  {
   "cell_type": "markdown",
   "metadata": {},
   "source": [
    "# Exam 1"
   ]
  },
  {
   "cell_type": "markdown",
   "metadata": {},
   "source": [
    "1.) Financial planners often use Monte Carlo simulations to model the stock market. No one can predict the future and we can't say for sure how a particular investment will play out in the future. However, we can use past performance and probability to simulate what might happen in the future. This problem applies this idea to create a small-scale Monte Carlo stock market simulation."
   ]
  },
  {
   "cell_type": "markdown",
   "metadata": {},
   "source": [
    "We have two stocks we're interested in: Google and Apple. From our financial research we know that:\n",
    "\n",
    "In any given year Google stock has\n",
    "* a 25% chance of declining in price by 15%\n",
    "* a 30% chance of creating a new product that increases the stock price by 25%\n",
    "* a 25% of the stock not changing in price at all\n",
    "* a 20% chance of the stock increasing in price by 5%\n",
    "\n",
    "In any given year Apple stock has\n",
    "* a 15% chance of declining in price by 15%\n",
    "* a 40% chance of creating a new iPhone that increases the stock price by 30%\n",
    "* a 35% of the stock not changing in price at all\n",
    "* a 10% chance of the stock increasing in price by 15%\n",
    "\n",
    "Write a Monte Carlo simulation that simulates 20 years of investment. If you start with 10,000 dollars invested in Google and 10,000 dollars invested in Apple, how much money does your simulation predict you'll have after the 20 years?\n",
    "\n",
    "<b>Note about Jupyter Notebooks: && is the Python notation for \"and\". However, Jupyter Notebooks don't always recognize &&. If you are using && and get an error change && to the the word and. For example:</b>\n",
    "```python\n",
    "# this is valid Python, but may not work in Jupyter Notebooks\n",
    "if ( (x > 10) && (x < 20) ):\n",
    "# this chance would make the above statement work in Jupyter Notebooks\n",
    "if ( (x > 10) and (x < 20) ):\n",
    "```\n"
   ]
  },
  {
   "cell_type": "code",
   "execution_count": 1,
   "metadata": {},
   "outputs": [],
   "source": [
    "# grading - 30 points total\n",
    "#     5 points - import the needed library or libraries\n",
    "#     5 points - correctly defining variables and random numbers\n",
    "#     5 points - correctly iterating over 20 years\n",
    "#     5 points - setting up the Google conditions\n",
    "#     5 points - setting up the Apple conditions\n",
    "#     5 points - printing out the results"
   ]
  },
  {
   "cell_type": "markdown",
   "metadata": {},
   "source": [
    "1b.) Because Monte Carlo simulations use random numbers we shouldn't read too much into any single running of our simulation. Ideally, we'd want to run a Monte Carlo simulation many times and look at the distribution of results. Let's do that here. Copy your code from above, paste it here, and edit it so that your simulation runs 100 times. Within each of the 100 simulations we are still simulating 20 years of investment. Keep track of the total investment value at the end of each of the 100 20-year simulations. Make a histogram of the these 100 investment values."
   ]
  },
  {
   "cell_type": "code",
   "execution_count": 2,
   "metadata": {},
   "outputs": [],
   "source": [
    "# grading - 24 points total\n",
    "#     8 points - keeping track of the total investment value over 100 iterations\n",
    "#     8 points - running the simulation 100 times\n",
    "#     8 points - making a histogram of the results"
   ]
  },
  {
   "cell_type": "markdown",
   "metadata": {},
   "source": [
    "2.) You own a food truck. Your employee parked the truck and sold hot dogs and sodas. Each hot dog costs 1.50 and each soda costs 50 cents. At the end of the day your employee made a total of 78.50. He knows he sold 87 hot dogs and sodas combined, but can't remember how many of each he sold. You must report the number of hot dogs sold and the number of sodas sold in your records. Fortunately, you know that you can express this as a system of equations and use matrix manipulation to solve for the number of hot dogs sold and the number of sodas sold. \n",
    "\n",
    "Specifically (20 points total):\n",
    "* step 1 - use Markdown to write out the equations you will use. (6 points)\n",
    "* step 2 - solve the equations using matrix manipulation (8 points)\n",
    "* step 3 - use the answer from step 2 to report how many hot dogs and how many sodas were sold (6 points, step 2 provides the answer, but it doesn't label which number belongs to sodas and which to hot dogs. this step is asking you to use Markdown to label which value is which)"
   ]
  },
  {
   "cell_type": "markdown",
   "metadata": {},
   "source": [
    "  "
   ]
  },
  {
   "cell_type": "markdown",
   "metadata": {},
   "source": [
    "3.) The code in the following cell reads in data about the Iris flower."
   ]
  },
  {
   "cell_type": "code",
   "execution_count": 12,
   "metadata": {},
   "outputs": [],
   "source": [
    "import pandas as pd\n",
    "import matplotlib.pyplot as plt\n",
    "%matplotlib inline\n",
    "url = 'http://narock.github.io/teaching/CST-411/visualization/iris.csv'\n",
    "iris = pd.read_csv(url)"
   ]
  },
  {
   "cell_type": "markdown",
   "metadata": {},
   "source": [
    "3a.) Use the head() function to show the first few rows of the table"
   ]
  },
  {
   "cell_type": "code",
   "execution_count": 3,
   "metadata": {},
   "outputs": [],
   "source": [
    "# 4 points"
   ]
  },
  {
   "cell_type": "markdown",
   "metadata": {},
   "source": [
    "3b.) PetalLengthCm column is the length of the Iris' petal in centimeters. PetalWidthCm column is the width of the Iris' petal in centimeters. What is the largest petal length in our dataset?"
   ]
  },
  {
   "cell_type": "code",
   "execution_count": 4,
   "metadata": {},
   "outputs": [],
   "source": [
    "# 4 points"
   ]
  },
  {
   "cell_type": "markdown",
   "metadata": {},
   "source": [
    "3c.) What is the shortest petal length in our dataset?"
   ]
  },
  {
   "cell_type": "code",
   "execution_count": 5,
   "metadata": {},
   "outputs": [],
   "source": [
    "# 4 points"
   ]
  },
  {
   "cell_type": "markdown",
   "metadata": {},
   "source": [
    "3d.) Make a scatter plot of the PetalLengthCm column (x-axis) vs. the PetalWidthCm (y-axis). Your scatter plot should have:\n",
    "* scatter plot command (3 points)\n",
    "* an x-label of 'Petal Length (cm)' (3 points)\n",
    "* a y-label of 'Petal Width (cm)' (3 points)\n",
    "* a title of 'Petal Length vs. Petal Width for Iris Flower' (3 points)"
   ]
  },
  {
   "cell_type": "markdown",
   "metadata": {},
   "source": [
    "4.) What does the statement\n",
    "```Python\n",
    "%matplotlib inline\n",
    "```\n",
    "do in the cell at the start of question 3? (2 points)"
   ]
  },
  {
   "cell_type": "markdown",
   "metadata": {},
   "source": [
    "***\n",
    "# End of Exam\n",
    "# Everything after this point is optional extra credit\n",
    "***\n",
    "\n",
    "## Optional Extra Credit Problem 1\n",
    "Our iris dataset covers three species of the iris flower: Iris-setosa, Iris-versicolor, and Iris-virginica. In other words, the Species column in our dataset will either have a value \"Iris-setosa\", \"Iris-versicolor\", or \"Iris-virginica\".\n",
    "\n",
    "Recreate the scatter plot from problem 3d.) but this time plot each species of flower in a different color"
   ]
  },
  {
   "cell_type": "markdown",
   "metadata": {},
   "source": [
    "## Optional Extra Credit Problem 2\n",
    "\n",
    "Anne is trying to choose between two phone plans. The first plan, with Vendafone, costs 20 dollars per month, with calls costing an additional 25 cents per minute. The second company, CellNet, charges 40 dollars per month, but calls cost only 8 cents per minute. Which should she choose? Use visualization to plot the different plans and Markdown to discuss which plan is better under which circumstances"
   ]
  }
 ],
 "metadata": {
  "kernelspec": {
   "display_name": "Python [default]",
   "language": "python",
   "name": "python3"
  },
  "language_info": {
   "codemirror_mode": {
    "name": "ipython",
    "version": 3
   },
   "file_extension": ".py",
   "mimetype": "text/x-python",
   "name": "python",
   "nbconvert_exporter": "python",
   "pygments_lexer": "ipython3",
   "version": "3.6.6"
  }
 },
 "nbformat": 4,
 "nbformat_minor": 2
}
