{
 "cells": [
  {
   "cell_type": "markdown",
   "metadata": {},
   "source": [
    "# Exam 2 - 100 points"
   ]
  },
  {
   "cell_type": "markdown",
   "metadata": {},
   "source": [
    "The mathematics of the Fourier Transform was developed on infinite waves. The Discrete Fourier Transform (DFT) is an implementation of the Fourier Transform for non-infinite waves. DFT has time complexity O(n<sup>2</sup>). The Fast Fourier Transform (FFT) is an implementation of DFT that takes less steps to arrive at the same solution. As a result, it manages to reduce the complexity of computing the DFT to O(n*log(n)), where n is the data size and log(n) is log base 10."
   ]
  },
  {
   "cell_type": "markdown",
   "metadata": {},
   "source": [
    "1.) (5 points) In your own words, describe what time complexity means and what are the implications of the above discussion at large n. How would you expect DFT and FFT to compare as the size of the data on which it is being applied increases?"
   ]
  },
  {
   "cell_type": "markdown",
   "metadata": {},
   "source": [
    "2.) (5 points) Visualize the time complexity of FFT and DFT. Specifically,\n",
    "- plot the two time complexities on the same graph\n",
    "- add a legend indicating which color goes with which complexity\n",
    "- add x and y titles\n",
    "- add a title\n",
    "- limit the x-range of the plot to be [0,60]"
   ]
  },
  {
   "cell_type": "code",
   "execution_count": 106,
   "metadata": {},
   "outputs": [],
   "source": [
    "# code here"
   ]
  },
  {
   "cell_type": "markdown",
   "metadata": {},
   "source": [
    "You're the lead engineer on a project investigating the use of FFT for equipment condition monitoring. Specifically, you'd like to analyze rotating machinery. If the machines are working properly then you will see a single peak at the rotational frequency when you apply FFT to your data. No other peaks will be seen in the FFT if the machine is working properly. However, if the machinery is failing then vibrations will increase and the machine will not rotate at a consistent rate. In the case of parts failing, you'll see the rotational frequency as the strongest dominant peak in the frequency representation, but you'll also see peaks at other frequencies due to parts failing and the rotation rate not being consistent. The FFT will be used to diagnose faults, with a single peak in the frequency representation indicating an operational machine, and multiple peaks in the frequency representation indicating an impending failure."
   ]
  },
  {
   "cell_type": "markdown",
   "metadata": {},
   "source": [
    "3.) (5 points) You are given data from two machines in your project. These data are stored in machine1.csv and machine2.csv (provided in Joule along with this notebook), respectively. Both data files have two columns separated by commas. The first column is time and the second column is the wave resulting from the rotation of the machine (the amplitude of the wave). The sampling rate is 1000 times per second.\n",
    "\n",
    "Read machine1.csv and visualize the data."
   ]
  },
  {
   "cell_type": "code",
   "execution_count": 107,
   "metadata": {},
   "outputs": [],
   "source": [
    "# code here"
   ]
  },
  {
   "cell_type": "markdown",
   "metadata": {},
   "source": [
    "4.) (5 points) Read machine2.csv and visualize the data."
   ]
  },
  {
   "cell_type": "code",
   "execution_count": 108,
   "metadata": {},
   "outputs": [],
   "source": [
    "# code here"
   ]
  },
  {
   "cell_type": "markdown",
   "metadata": {},
   "source": [
    "5.) (10 points) You may be able to tell which machine is failing from these visualizations. You can probably already see inconsistencies in one of the waves. However, let's provide more evidence by looking at the FFT. Perform FFT on both machine1 and machine2 and visualize the results"
   ]
  },
  {
   "cell_type": "code",
   "execution_count": 109,
   "metadata": {},
   "outputs": [],
   "source": [
    "# code here"
   ]
  },
  {
   "cell_type": "code",
   "execution_count": 110,
   "metadata": {},
   "outputs": [],
   "source": [
    "# code here"
   ]
  },
  {
   "cell_type": "markdown",
   "metadata": {},
   "source": [
    "6.) (5 points) Recall that the domininant peak (largest magnitude) is the rotation of the machine. How many times per second do machine1 and machine2 rotate? For full credit, find the exact value, not an approximation by reading from the graph."
   ]
  },
  {
   "cell_type": "markdown",
   "metadata": {},
   "source": [
    "7.) (10 points) How do you interpret the FFT results? Which machine is more in danger of failing? If you could only supply maintanance to one machine, which would you choose?"
   ]
  },
  {
   "cell_type": "markdown",
   "metadata": {},
   "source": [
    " "
   ]
  },
  {
   "cell_type": "markdown",
   "metadata": {},
   "source": [
    "8.) (20 points) Use the r-squared statistic to determine if the following x and y data are better fit by a third order polynomial or a fourth order polynomial.\n",
    "\n",
    "For reference, a third order polynomial has the form: \n",
    "a*x<sup>3</sup>+b*x<sup>2</sup>+c*x+d\n",
    "and a fourth order polynomial has the form:\n",
    "a*x<sup>4</sup>+b*x<sup>3</sup>+c*x<sup>2</sup>+d*x+e\n"
   ]
  },
  {
   "cell_type": "code",
   "execution_count": 63,
   "metadata": {},
   "outputs": [],
   "source": [
    "x_data = [0.33807103, 0.30591163, 0.45288602, 0.73333478, 0.6815493,  0.72446816]\n",
    "y_data = [0.37568632, 0.34643657, 0.5755311,  0.41885812, 0.93361988, 0.5884533]"
   ]
  },
  {
   "cell_type": "code",
   "execution_count": 111,
   "metadata": {},
   "outputs": [],
   "source": [
    "# code here"
   ]
  },
  {
   "cell_type": "code",
   "execution_count": 112,
   "metadata": {},
   "outputs": [],
   "source": [
    "# code here"
   ]
  },
  {
   "cell_type": "code",
   "execution_count": 113,
   "metadata": {},
   "outputs": [],
   "source": [
    "# code here"
   ]
  },
  {
   "cell_type": "markdown",
   "metadata": {},
   "source": [
    "9.) (5 points) Create a list of x values using: x=np.arange(0,1,.01)\n",
    "\n",
    "- plot x_data and y_data using a scatter plot\n",
    "- on the same graph, plot x and the best fit third order equation\n",
    "- on the same graph, plot x and the best fit fourth order equation\n",
    "- add a legend to indicate which plot is the third order and which is the fourth order"
   ]
  },
  {
   "cell_type": "code",
   "execution_count": 114,
   "metadata": {},
   "outputs": [],
   "source": [
    "# code here"
   ]
  },
  {
   "cell_type": "markdown",
   "metadata": {},
   "source": [
    " "
   ]
  },
  {
   "cell_type": "markdown",
   "metadata": {},
   "source": [
    "10.) (10 points) An Electroencephalogram (EEG) measures brain waves. The frequencies of these waves indicate what the person was doing when the EEG measurements were taken. Neuroscientists have created the following table."
   ]
  },
  {
   "cell_type": "markdown",
   "metadata": {},
   "source": [
    "|      Frequency Range    |  State of Mind |\n",
    "|:-------------:|------:|\n",
    "|  0.5Hz–4Hz | Deep sleep |\n",
    "| 4Hz–8Hz |    Drowsiness (first stage of sleep)  |\n",
    "| 8Hz–14Hz | Relaxed but alert |\n",
    "| 14Hz–30Hz | Highly alert and focused |\n",
    "\n",
    "Given an EEG, neuroscientists can determine which range of frequencies have the largest magnitude, and use that information to determine which of the above \"states of mind\" the person was in when the measurements were taken. This is analogous to how we were able to determine which piano note was played without ever hearing the recording.\n",
    "\n",
    "Let's start by reading the comma separated file eeg.csv (on Joule) and visualizing it. The EEG file contains two columns: time and amplitude. The sampling rate is 1000 times per second.\n",
    "\n",
    "Read the data and create a plot of time (x-axis) and amplitude (y-axis). For an EEG the amplitude is measured in volts; however, the voltage output from our brains is very small so our data is supplied in units of micro-Volts (10<sup>-6</sup> Volts). Label your plot using seconds on the x-axis and micro-Volts on the y-axis"
   ]
  },
  {
   "cell_type": "code",
   "execution_count": 115,
   "metadata": {},
   "outputs": [],
   "source": [
    "# code here"
   ]
  },
  {
   "cell_type": "markdown",
   "metadata": {},
   "source": [
    "11.) (20 points) Determine which state of mind (from the above table) the person was in when the EEG was taken."
   ]
  },
  {
   "cell_type": "code",
   "execution_count": 116,
   "metadata": {},
   "outputs": [],
   "source": [
    "# code and discussion here"
   ]
  },
  {
   "cell_type": "markdown",
   "metadata": {},
   "source": [
    "# Extra Credit - 5 points"
   ]
  },
  {
   "cell_type": "markdown",
   "metadata": {},
   "source": [
    "The following spectrogram is from a second EEG."
   ]
  },
  {
   "cell_type": "markdown",
   "metadata": {},
   "source": [
    "![alt text](http://curiositry.github.io/assets/img/autodidacts/openbci-binaural/openbci_binaural_second_run_channel8_combined_spect.png)"
   ]
  },
  {
   "cell_type": "markdown",
   "metadata": {},
   "source": [
    "EC 1.) (3 points) What is a spectrogram? How does it relate to FFT?"
   ]
  },
  {
   "cell_type": "markdown",
   "metadata": {},
   "source": [
    "EC 2.) (1 point) What 'state of mind' was this person in while the EEG was being taken? How do you know?"
   ]
  },
  {
   "cell_type": "markdown",
   "metadata": {},
   "source": [
    "EC 3.) (1 point) Was the person in this state for the entire duration of the EEG? How do you know?"
   ]
  },
  {
   "cell_type": "code",
   "execution_count": null,
   "metadata": {},
   "outputs": [],
   "source": []
  }
 ],
 "metadata": {
  "kernelspec": {
   "display_name": "Python [default]",
   "language": "python",
   "name": "python3"
  },
  "language_info": {
   "codemirror_mode": {
    "name": "ipython",
    "version": 3
   },
   "file_extension": ".py",
   "mimetype": "text/x-python",
   "name": "python",
   "nbconvert_exporter": "python",
   "pygments_lexer": "ipython3",
   "version": "3.6.6"
  }
 },
 "nbformat": 4,
 "nbformat_minor": 2
}
