{
 "cells": [
  {
   "cell_type": "markdown",
   "metadata": {},
   "source": [
    "# Exam 1"
   ]
  },
  {
   "cell_type": "markdown",
   "metadata": {},
   "source": [
    "1.) Financial planners often use Monte Carlo simulations to model the stock market. No one can predict the future and we can't say for sure how a particular investment will play out in the future. However, we can use past performance and probability to simulate what might happen in the future. This problem applies this idea to create a small-scale Monte Carlo stock market simulation."
   ]
  },
  {
   "cell_type": "markdown",
   "metadata": {},
   "source": [
    "We have two stocks we're interested in: Google and Apple. From our financial research we know that:\n",
    "\n",
    "In any given year Google stock has\n",
    "* a 25% chance of declining in price by 15%\n",
    "* a 30% chance of creating a new product that increases the stock price by 25%\n",
    "* a 25% of the stock not changing in price at all\n",
    "* a 20% chance of the stock increasing in price by 5%\n",
    "\n",
    "In any given year Apple stock has\n",
    "* a 15% chance of declining in price by 15%\n",
    "* a 40% chance of creating a new iPhone that increases the stock price by 30%\n",
    "* a 35% of the stock not changing in price at all\n",
    "* a 10% chance of the stock increasing in price by 15%\n",
    "\n",
    "Write a Monte Carlo simulation that simulates 20 years of investment. If you start with 10,000 dollars invested in Google and 10,000 dollars invested in Apple, how much money does your simulation predict you'll have after the 20 years?\n",
    "\n",
    "<b>Note about Jupyter Notebooks: && is the Python notation for \"and\". However, Jupyter Notebooks don't always recognize &&. If you are using && and get an error change && to the the word and. For example:</b>\n",
    "```python\n",
    "# this is valid Python, but may not work in Jupyter Notebooks\n",
    "if ( (x > 10) && (x < 20) ):\n",
    "# this chance would make the above statement work in Jupyter Notebooks\n",
    "if ( (x > 10) and (x < 20) ):\n",
    "```\n"
   ]
  },
  {
   "cell_type": "code",
   "execution_count": 6,
   "metadata": {},
   "outputs": [
    {
     "name": "stdout",
     "output_type": "stream",
     "text": [
      "$10,000 initial Google investment now worth $111974.62\n",
      "$10,000 initial Apple investment now worth $143079.37\n",
      "Total investment now worth $255053.99\n"
     ]
    }
   ],
   "source": [
    "import numpy as np\n",
    "\n",
    "# initial investments\n",
    "moneyGoogle = 10000\n",
    "moneyApple = 10000\n",
    "\n",
    "# loop to simulate 20 years of investing\n",
    "for year in range(20):\n",
    "    \n",
    "    # random numbers to simulate how the stock price changed\n",
    "    google = np.random.random()\n",
    "    apple = np.random.random()\n",
    "    \n",
    "    # google options\n",
    "    if ( google <= 0.25 ): \n",
    "        moneyGoogle = moneyGoogle - (moneyGoogle * 0.15)\n",
    "    elif ( (google > 0.25) and (google <= 0.55)):\n",
    "        moneyGoogle = moneyGoogle + (moneyGoogle * 0.25)\n",
    "    elif ( (google > 0.55) and (google <= 0.80) ):\n",
    "        moneyGoogle = moneyGoogle \n",
    "    elif ( google > 0.8 ):\n",
    "        moneyGoogle = moneyGoogle + (moneyGoogle * .15)\n",
    "        \n",
    "    # apple options\n",
    "    if ( apple <= 0.15 ): \n",
    "        moneyApple = moneyApple - (moneyApple * 0.15)\n",
    "    elif ( (apple > 0.15) and (apple <= 0.55)):\n",
    "        moneyApple = moneyApple + (moneyApple * 0.30)\n",
    "    elif ( (apple > 0.55) and (apple <= 0.90) ):\n",
    "        moneyApple = moneyApple\n",
    "    elif ( apple > 0.9 ):\n",
    "        moneyApple = moneyApple + (moneyApple * .15)\n",
    "\n",
    "print(\"$10,000 initial Google investment now worth $%0.2f\" % (moneyGoogle))\n",
    "print(\"$10,000 initial Apple investment now worth $%0.2f\" % (moneyApple))\n",
    "print(\"Total investment now worth $%0.2f\" % (moneyGoogle+moneyApple))"
   ]
  },
  {
   "cell_type": "markdown",
   "metadata": {},
   "source": [
    "1b.) Because Monte Carlo simulations use random numbers we shouldn't read too much into any single running of our simulation. Ideally, we'd want to run a Monte Carlo simulation many times and look at the distribution of results. Let's do that here. Copy your code from above, paste it here, and edit it so that your simulation runs 100 times. Within each of the 100 simulations we are still simulating 20 years of investment. Keep track of the total investment value at the end of each of the 100 20-year simulations. Make a histogram of the these 100 investment values."
   ]
  },
  {
   "cell_type": "code",
   "execution_count": 37,
   "metadata": {},
   "outputs": [],
   "source": [
    "import numpy as np\n",
    "\n",
    "# list to hold our results\n",
    "result = []\n",
    "\n",
    "for i in range(100):\n",
    "    \n",
    "    # initial investments\n",
    "    moneyGoogle = 10000\n",
    "    moneyApple = 10000\n",
    "\n",
    "    # loop to simulate 20 years of investing\n",
    "    for year in range(20):\n",
    "    \n",
    "        # random numbers to simulate how the stock price changed\n",
    "        google = np.random.random()\n",
    "        apple = np.random.random()\n",
    "    \n",
    "        # google options\n",
    "        if ( google <= 0.25 ): \n",
    "            moneyGoogle = moneyGoogle - (moneyGoogle * 0.15)\n",
    "        elif ( (google > 0.25) and (google <= 0.55)):\n",
    "            moneyGoogle = moneyGoogle + (moneyGoogle * 0.25)\n",
    "        elif ( (google > 0.55) and (google <= 0.80) ):\n",
    "            moneyGoogle = moneyGoogle \n",
    "        elif ( google > 0.8 ):\n",
    "            moneyGoogle = moneyGoogle + (moneyGoogle * .15)\n",
    "        \n",
    "        # apple options\n",
    "        if ( apple <= 0.15 ): \n",
    "            moneyApple = moneyApple - (moneyApple * 0.15)\n",
    "        elif ( (apple > 0.15) and (apple <= 0.55)):\n",
    "            moneyApple = moneyApple + (moneyApple * 0.30)\n",
    "        elif ( (apple > 0.55) and (apple <= 0.90) ):\n",
    "            moneyApple = moneyApple\n",
    "        elif ( apple > 0.9 ):\n",
    "            moneyApple = moneyApple + (moneyApple * .15)\n",
    "\n",
    "    result.append( moneyGoogle + moneyApple )"
   ]
  },
  {
   "cell_type": "code",
   "execution_count": 38,
   "metadata": {},
   "outputs": [
    {
     "data": {
      "text/plain": [
       "(array([23., 33., 19., 10., 11.,  1.,  2.,  0.,  0.,  1.]),\n",
       " array([ 30060.47546091,  73911.98268583, 117763.48991075, 161614.99713568,\n",
       "        205466.5043606 , 249318.01158552, 293169.51881044, 337021.02603537,\n",
       "        380872.53326029, 424724.04048521, 468575.54771013]),\n",
       " <a list of 10 Patch objects>)"
      ]
     },
     "execution_count": 38,
     "metadata": {},
     "output_type": "execute_result"
    },
    {
     "data": {
      "image/png": "[encoded data removed]",
      "text/plain": [
       "<Figure size 432x288 with 1 Axes>"
      ]
     },
     "metadata": {},
     "output_type": "display_data"
    }
   ],
   "source": [
    "plt.hist(result)"
   ]
  },
  {
   "cell_type": "markdown",
   "metadata": {},
   "source": [
    "2.) You own a food truck. Your employee parked the truck and sold hot dogs and sodas. Each hot dog costs 1.50 and each soda costs 50 cents. At the end of the day your employee made a total of 78.50. He knows he sold 87 hot dogs and sodas combined, but can't remember how many of each he sold. You must report the number of hot dogs sold and the number of sodas sold in your records. Fortunately, you know that you can express this as a system of equations and use matrix manipulation to solve for the number of hot dogs sold and the number of sodas sold. \n",
    "\n",
    "Specifically:\n",
    "* step 1 - use Markdown to write out the equations you will use.\n",
    "* step 2 - solve the equations using matrix manipulation\n",
    "* step 3 - use the answer from step 2 to report how many hot dogs and how many sodas were sold (step 2 provides the answer, but it doesn't label which number belongs to sodas and which to hot dogs. this step is asking you to use Markdown to label which value is which)"
   ]
  },
  {
   "cell_type": "markdown",
   "metadata": {},
   "source": [
    "### x will represent hot dogs, y will represent sodas\n",
    "### 1.5x + 0.5y = 78.5\n",
    "### x + y = 87"
   ]
  },
  {
   "cell_type": "code",
   "execution_count": 7,
   "metadata": {},
   "outputs": [
    {
     "data": {
      "text/plain": [
       "array([[35.],\n",
       "       [52.]])"
      ]
     },
     "execution_count": 7,
     "metadata": {},
     "output_type": "execute_result"
    }
   ],
   "source": [
    "import numpy\n",
    "A = np.array([[1.5, 0.5], [1, 1]])\n",
    "B = np.array([[78.5],[87]])\n",
    "np.linalg.solve(A,B)"
   ]
  },
  {
   "cell_type": "markdown",
   "metadata": {},
   "source": [
    "### There were 35 hot dogs and 52 sodas sold"
   ]
  },
  {
   "cell_type": "markdown",
   "metadata": {},
   "source": [
    "  "
   ]
  },
  {
   "cell_type": "markdown",
   "metadata": {},
   "source": [
    "3.) The code in the following cell reads in data about the Iris flower."
   ]
  },
  {
   "cell_type": "code",
   "execution_count": 12,
   "metadata": {},
   "outputs": [],
   "source": [
    "import pandas as pd\n",
    "import matplotlib.pyplot as plt\n",
    "%matplotlib inline\n",
    "url = 'http://narock.github.io/teaching/CST-411/visualization/iris.csv'\n",
    "iris = pd.read_csv(url)"
   ]
  },
  {
   "cell_type": "markdown",
   "metadata": {},
   "source": [
    "3a.) Use the head() function to show the first few rows of the table"
   ]
  },
  {
   "cell_type": "code",
   "execution_count": 13,
   "metadata": {},
   "outputs": [
    {
     "data": {
      "text/html": [
       "<div>\n",
       "<style scoped>\n",
       "    .dataframe tbody tr th:only-of-type {\n",
       "        vertical-align: middle;\n",
       "    }\n",
       "\n",
       "    .dataframe tbody tr th {\n",
       "        vertical-align: top;\n",
       "    }\n",
       "\n",
       "    .dataframe thead th {\n",
       "        text-align: right;\n",
       "    }\n",
       "</style>\n",
       "<table border=\"1\" class=\"dataframe\">\n",
       "  <thead>\n",
       "    <tr style=\"text-align: right;\">\n",
       "      <th></th>\n",
       "      <th>Id</th>\n",
       "      <th>SepalLengthCm</th>\n",
       "      <th>SepalWidthCm</th>\n",
       "      <th>PetalLengthCm</th>\n",
       "      <th>PetalWidthCm</th>\n",
       "      <th>Species</th>\n",
       "    </tr>\n",
       "  </thead>\n",
       "  <tbody>\n",
       "    <tr>\n",
       "      <th>0</th>\n",
       "      <td>1</td>\n",
       "      <td>5.1</td>\n",
       "      <td>3.5</td>\n",
       "      <td>1.4</td>\n",
       "      <td>0.2</td>\n",
       "      <td>Iris-setosa</td>\n",
       "    </tr>\n",
       "    <tr>\n",
       "      <th>1</th>\n",
       "      <td>2</td>\n",
       "      <td>4.9</td>\n",
       "      <td>3.0</td>\n",
       "      <td>1.4</td>\n",
       "      <td>0.2</td>\n",
       "      <td>Iris-setosa</td>\n",
       "    </tr>\n",
       "    <tr>\n",
       "      <th>2</th>\n",
       "      <td>3</td>\n",
       "      <td>4.7</td>\n",
       "      <td>3.2</td>\n",
       "      <td>1.3</td>\n",
       "      <td>0.2</td>\n",
       "      <td>Iris-setosa</td>\n",
       "    </tr>\n",
       "    <tr>\n",
       "      <th>3</th>\n",
       "      <td>4</td>\n",
       "      <td>4.6</td>\n",
       "      <td>3.1</td>\n",
       "      <td>1.5</td>\n",
       "      <td>0.2</td>\n",
       "      <td>Iris-setosa</td>\n",
       "    </tr>\n",
       "    <tr>\n",
       "      <th>4</th>\n",
       "      <td>5</td>\n",
       "      <td>5.0</td>\n",
       "      <td>3.6</td>\n",
       "      <td>1.4</td>\n",
       "      <td>0.2</td>\n",
       "      <td>Iris-setosa</td>\n",
       "    </tr>\n",
       "  </tbody>\n",
       "</table>\n",
       "</div>"
      ],
      "text/plain": [
       "   Id  SepalLengthCm  SepalWidthCm  PetalLengthCm  PetalWidthCm      Species\n",
       "0   1            5.1           3.5            1.4           0.2  Iris-setosa\n",
       "1   2            4.9           3.0            1.4           0.2  Iris-setosa\n",
       "2   3            4.7           3.2            1.3           0.2  Iris-setosa\n",
       "3   4            4.6           3.1            1.5           0.2  Iris-setosa\n",
       "4   5            5.0           3.6            1.4           0.2  Iris-setosa"
      ]
     },
     "execution_count": 13,
     "metadata": {},
     "output_type": "execute_result"
    }
   ],
   "source": [
    "iris.head()"
   ]
  },
  {
   "cell_type": "markdown",
   "metadata": {},
   "source": [
    "3b.) PetalLengthCm column is the length of the Iris' petal in centimeters. PetalWidthCm column is the width of the Iris' petal in centimeters. What is the largest petal length in our dataset?"
   ]
  },
  {
   "cell_type": "code",
   "execution_count": 18,
   "metadata": {},
   "outputs": [
    {
     "data": {
      "text/plain": [
       "6.9"
      ]
     },
     "execution_count": 18,
     "metadata": {},
     "output_type": "execute_result"
    }
   ],
   "source": [
    "iris['PetalLengthCm'].max()"
   ]
  },
  {
   "cell_type": "markdown",
   "metadata": {},
   "source": [
    "3c.) What is the shortest petal length in our dataset?"
   ]
  },
  {
   "cell_type": "code",
   "execution_count": 19,
   "metadata": {},
   "outputs": [
    {
     "data": {
      "text/plain": [
       "1.0"
      ]
     },
     "execution_count": 19,
     "metadata": {},
     "output_type": "execute_result"
    }
   ],
   "source": [
    "iris['PetalLengthCm'].min()"
   ]
  },
  {
   "cell_type": "markdown",
   "metadata": {},
   "source": [
    "3d.) Make a scatter plot of the PetalLengthCm column (x-axis) vs. the PetalWidthCm (y-axis). Your scatter plot should have:\n",
    "* an x-label of 'Petal Length (cm)'\n",
    "* a y-label of 'Petal Width (cm)'\n",
    "* a title of 'Petal Length vs. Petal Width for Iris Flower'"
   ]
  },
  {
   "cell_type": "code",
   "execution_count": 17,
   "metadata": {},
   "outputs": [
    {
     "data": {
      "text/plain": [
       "Text(0.5,1,'Petal Length vs. Petal Width for Iris Flower')"
      ]
     },
     "execution_count": 17,
     "metadata": {},
     "output_type": "execute_result"
    },
    {
     "data": {
      "image/png": "[encoded data removed]",
      "text/plain": [
       "<Figure size 432x288 with 1 Axes>"
      ]
     },
     "metadata": {},
     "output_type": "display_data"
    }
   ],
   "source": [
    "plt.scatter(iris['PetalLengthCm'],iris['PetalWidthCm'])\n",
    "plt.xlabel('Petal Length (cm)')\n",
    "plt.ylabel('Petal Width (cm)')\n",
    "plt.title('Petal Length vs. Petal Width for Iris Flower')"
   ]
  },
  {
   "cell_type": "markdown",
   "metadata": {},
   "source": [
    "4.) What does the statement\n",
    "```Python\n",
    "%matplotlib inline\n",
    "```\n",
    "do in the cell at the start of question 3? "
   ]
  },
  {
   "cell_type": "markdown",
   "metadata": {},
   "source": [
    "#### By default, matplotlib will open a new window with our requested plot. The above statement causes matplotlib to generate the plot within the cell rather than try to open a new window"
   ]
  },
  {
   "cell_type": "markdown",
   "metadata": {},
   "source": [
    "***\n",
    "# End of Exam\n",
    "# Everything after this point is optional extra credit\n",
    "***\n",
    "\n",
    "## Optional Extra Credit Problem 1\n",
    "#### Our iris dataset covers three species of the iris flower: Iris-setosa, Iris-versicolor, and Iris-virginica. In other words, the Species column in our dataset will either have a value \"Iris-setosa\", \"Iris-versicolor\", or \"Iris-virginica\".\n",
    "#### Recreate the scatter plot from problem 3d.) but this time plot each species of flower in a different color"
   ]
  },
  {
   "cell_type": "code",
   "execution_count": 28,
   "metadata": {},
   "outputs": [
    {
     "data": {
      "text/plain": [
       "Text(0.5,1,'Petal Length vs. Petal Width for Iris Flower')"
      ]
     },
     "execution_count": 28,
     "metadata": {},
     "output_type": "execute_result"
    },
    {
     "data": {
      "image/png": "[encoded data removed]",
      "text/plain": [
       "<Figure size 432x288 with 1 Axes>"
      ]
     },
     "metadata": {},
     "output_type": "display_data"
    }
   ],
   "source": [
    "color = []\n",
    "for row in iris['Species']:\n",
    "    if ( row == \"Iris-setosa\" ):\n",
    "        color.append('Red')\n",
    "    if ( row == \"Iris-versicolor\" ):\n",
    "        color.append('Blue')\n",
    "    if ( row == \"Iris-virginica\" ):\n",
    "        color.append('Green')\n",
    "plt.scatter(iris['PetalLengthCm'],iris['PetalWidthCm'], c=color)\n",
    "plt.xlabel('Petal Length (cm)')\n",
    "plt.ylabel('Petal Width (cm)')\n",
    "plt.title('Petal Length vs. Petal Width for Iris Flower')"
   ]
  },
  {
   "cell_type": "markdown",
   "metadata": {},
   "source": [
    "## Optional Extra Credit Problem 2\n",
    "\n",
    "Anne is trying to choose between two phone plans. The first plan, with Vendafone, costs 20 dollars per month, with calls costing an additional 25 cents per minute. The second company, CellNet, charges 40 dollars per month, but calls cost only 8 cents per minute. Which should she choose? Use visualization to plot the different plans and Markdown to discuss which plan is better under which circumstances"
   ]
  },
  {
   "cell_type": "code",
   "execution_count": 39,
   "metadata": {},
   "outputs": [
    {
     "data": {
      "text/plain": [
       "<matplotlib.legend.Legend at 0x7fdd843684e0>"
      ]
     },
     "execution_count": 39,
     "metadata": {},
     "output_type": "execute_result"
    },
    {
     "data": {
      "image/png": "[encoded data removed]",
      "text/plain": [
       "<Figure size 432x288 with 1 Axes>"
      ]
     },
     "metadata": {},
     "output_type": "display_data"
    }
   ],
   "source": [
    "x = np.arange(1,200,1) # create a list starting at 1 and going to 200, step size 1\n",
    "vendafonePrice = 20 + .25*x\n",
    "cellNetPrice = 40 + .08*x\n",
    "plt.plot(x, vendafonePrice)\n",
    "plt.plot(x, cellNetPrice)\n",
    "plt.xlabel('Minutes Used')\n",
    "plt.ylabel('Monthly cost in dollars')\n",
    "plt.legend(['Vendafone', 'CellNet'])"
   ]
  },
  {
   "cell_type": "markdown",
   "metadata": {},
   "source": [
    "### Vendafone is cheaper as long as Anne uses less than 120 minutes per month. If Anne plans to use more than 12 minutes per month then CellNet plan is cheaper"
   ]
  },
  {
   "cell_type": "code",
   "execution_count": null,
   "metadata": {},
   "outputs": [],
   "source": []
  }
 ],
 "metadata": {
  "kernelspec": {
   "display_name": "Python [default]",
   "language": "python",
   "name": "python3"
  },
  "language_info": {
   "codemirror_mode": {
    "name": "ipython",
    "version": 3
   },
   "file_extension": ".py",
   "mimetype": "text/x-python",
   "name": "python",
   "nbconvert_exporter": "python",
   "pygments_lexer": "ipython3",
   "version": "3.6.6"
  }
 },
 "nbformat": 4,
 "nbformat_minor": 2
}
