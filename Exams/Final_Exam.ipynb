{
 "cells": [
  {
   "cell_type": "markdown",
   "metadata": {},
   "source": [
    "# Final Exam - 100 points"
   ]
  },
  {
   "cell_type": "markdown",
   "metadata": {},
   "source": [
    "#### 1.) The following figure shows two curves. The top curve is f(x) = -x<sup>2</sup> + 4x + 3 and the bottom curve is g(x) = -x<sup>3</sup> + 7x<sup>2</sup> - 10x + 5. What is the area between the two curves in the interval [1,2]? In other words, what is the area of the pink shaded region? (6 points)\n",
    "\n",
    "![](https://narock.github.io/teaching/CST-411/final_exam_figure_1.png)"
   ]
  },
  {
   "cell_type": "code",
   "execution_count": 88,
   "metadata": {},
   "outputs": [],
   "source": [
    "# code here"
   ]
  },
  {
   "cell_type": "markdown",
   "metadata": {},
   "source": [
    "#### 2.) A system of linear equations is given by:\n",
    "#### 3x + 2y - z = 1\n",
    "#### 2x - 2y + 4z = -2\n",
    "#### -x + 0.5y - z = 0\n",
    "#### What are the values of x, y, and z that simultaneously solve all three equations? (3 points)"
   ]
  },
  {
   "cell_type": "code",
   "execution_count": 89,
   "metadata": {},
   "outputs": [],
   "source": [
    "# code here"
   ]
  },
  {
   "cell_type": "markdown",
   "metadata": {},
   "source": [
    "#### 3.) What is a Monte Carlo simulation? (6 points)"
   ]
  },
  {
   "cell_type": "markdown",
   "metadata": {},
   "source": [
    "#### 4.) There is a dataset on Iris flowers available at\n",
    " http://narock.github.io/teaching/CST-411/visualization/iris.csv\n",
    "#### Use the Pandas library to read the data into this notebook. Use the head() function to list the first few lines of the dataset. The data are in rows and columns with each column separated by a comma (CSV file) (3 points)"
   ]
  },
  {
   "cell_type": "code",
   "execution_count": 90,
   "metadata": {},
   "outputs": [],
   "source": [
    "# code here"
   ]
  },
  {
   "cell_type": "markdown",
   "metadata": {},
   "source": [
    "#### 5.) The columns PetalLenghtCm and PetalWidthCm from the above iris.csv file contain measurements, in centimeters, of Iris flower petal length and petal width, respectively. Make a scatter plot with petal length on the x-axis and petal width on the y-axis. Label both the x and y axes. Create a title for the visualization as well. (4 points)"
   ]
  },
  {
   "cell_type": "code",
   "execution_count": 91,
   "metadata": {},
   "outputs": [],
   "source": [
    "# code here"
   ]
  },
  {
   "cell_type": "markdown",
   "metadata": {},
   "source": [
    "#### 6.) Looking at the visualization from 5., it looks like there is a linear relationship between petal length and petal width. Let's fit the data to a straight line y = mx + b. What are the \"best\" values of m and b to use? (4 points) "
   ]
  },
  {
   "cell_type": "code",
   "execution_count": 92,
   "metadata": {},
   "outputs": [],
   "source": [
    "# code here"
   ]
  },
  {
   "cell_type": "markdown",
   "metadata": {},
   "source": [
    "#### 7.) Plot the best fit line on top of the data points. Specifically, make a scatter plot with Petal Length on the x-axis and Petal Width on the y-axis. Plot the best fit line on the same plot in red. Label the x and y axes and also create a plot title (6 points)"
   ]
  },
  {
   "cell_type": "code",
   "execution_count": 93,
   "metadata": {},
   "outputs": [],
   "source": [
    "# code here"
   ]
  },
  {
   "cell_type": "markdown",
   "metadata": {},
   "source": [
    "#### 8.) How well does the best fit line fit the data? Choose a statistic that compares model fits to data points. There were at least two discussed in class. You may choose which ever one you prefer. Apply the chosen statistic and discuss the result. (5 points)"
   ]
  },
  {
   "cell_type": "code",
   "execution_count": 94,
   "metadata": {},
   "outputs": [],
   "source": [
    "# code here"
   ]
  },
  {
   "cell_type": "markdown",
   "metadata": {},
   "source": [
    "#### 9.) A particle moves in the xy-plane. At any time t ≥ 0 the particle’s x any y positions can be found by\n",
    "\n",
    "x = -3t<sup>3</sup> + 4t<sup>2</sup>\n",
    "\n",
    "y = t<sup>3</sup> + 2 \n",
    "\n",
    "#### Acceleration is the second derivative of position. What is the particle’s x and y acceleration at t = 3? (6 points)\n"
   ]
  },
  {
   "cell_type": "code",
   "execution_count": 95,
   "metadata": {},
   "outputs": [],
   "source": [
    "# code here"
   ]
  },
  {
   "cell_type": "markdown",
   "metadata": {},
   "source": [
    "#### 10.) Our factory is producing Wonderful Widgets. Our revenue (in thousands of dollars) is given by:  r(x) = 10x. \n",
    "\n",
    "#### For example, selling one widget = r(1) = 10*1 = 10 = $10,000\n",
    "\n",
    "#### But, we have to pay electricity bills, and our employees, and take care of other costs. Our total costs are given by:  c(x) = x<sup>3</sup> – 6x<sup>2</sup> + 15x,  also in thousands of dollars\n",
    "\n",
    "#### Selling one widget cost c(1) = 1<sup>3</sup> – 6*1<sup>2</sup> + 15 = 1 - 6 + 15 = 10 = $10,000\n",
    "\n",
    "#### Selling just one widget, we break even. How many widgets do we need to sell to maximize our profit? We'll solve this two ways.\n"
   ]
  },
  {
   "cell_type": "markdown",
   "metadata": {},
   "source": [
    "#### First, through visualization. \n",
    "\n",
    "#### Define a function that describes our profits as a function of x (widgets sold). In other words, how would you combine the revenue function, r(x), and the cost function, c(x), to get a profit function, p(x)? (3 points)\n",
    "\n",
    "#### Visualize the profit function with labels on both the x and y axis (4 points)\n",
    "\n",
    "#### Find the maximum of the profit function. (3 points)\n",
    "\n",
    "#### How many widgets sold does the maximum correspond to? (3 points)"
   ]
  },
  {
   "cell_type": "code",
   "execution_count": 97,
   "metadata": {},
   "outputs": [],
   "source": [
    "# code here"
   ]
  },
  {
   "cell_type": "markdown",
   "metadata": {},
   "source": [
    "***\n",
    "\n",
    "#### 10. Part b.) - Now, we'll solve the same problem, but this time using derivatives.\n",
    "\n",
    "#### A point c is a critical point of the function f if the first derivative of f, evaluated at c, equals 0. f'(c) = 0\n",
    "\n",
    "#### What are the critical points of your profit function? (7 points)\n",
    "\n",
    "#### A critical point c is a maximum when f’’(c) < 0. Which of your critical points is a maximum? (4 points)\n",
    "\n",
    "#### Place the critical point corresponding to the maximum into your profit function and print out how many widgets we need to sell to maximize our profits AND what the profits will be when that many widgets are sold. (3 points)"
   ]
  },
  {
   "cell_type": "code",
   "execution_count": 98,
   "metadata": {},
   "outputs": [],
   "source": [
    "# code here"
   ]
  },
  {
   "cell_type": "markdown",
   "metadata": {},
   "source": [
    "#### 11.) Monte Carlo simulation can be used to approximate integration. In this problem, we're going to step through how this can be done and compare the results to Scipy's integration approximation.\n",
    "\n",
    "#### The function we are going to integration is 3x<sup>2</sup>. Here's what this function looks like over the interval [0,5]. \n",
    "\n",
    "#### We'd like to integrate from 0.3 to 2.5, the shaded region"
   ]
  },
  {
   "cell_type": "code",
   "execution_count": 82,
   "metadata": {},
   "outputs": [
    {
     "data": {
      "text/plain": [
       "<matplotlib.collections.PolyCollection at 0x7f72beba4748>"
      ]
     },
     "execution_count": 82,
     "metadata": {},
     "output_type": "execute_result"
    },
    {
     "data": {
      "image/png": "[encoded data removed]",
      "text/plain": [
       "<Figure size 432x288 with 1 Axes>"
      ]
     },
     "metadata": {},
     "output_type": "display_data"
    }
   ],
   "source": [
    "def f(x):\n",
    "    return 3*x**2\n",
    "\n",
    "x = np.arange(0,5,.1)\n",
    "plt.plot(x, f(x))\n",
    "\n",
    "x_shaded = np.arange(0.3,2.5,0.1)\n",
    "y_shaded = f(x_shaded)\n",
    "plt.fill_between(x_shaded, y_shaded, facecolor='red')"
   ]
  },
  {
   "cell_type": "markdown",
   "metadata": {},
   "source": [
    "#### The first step is to create a rectangle over the interval we are interested in."
   ]
  },
  {
   "cell_type": "code",
   "execution_count": 73,
   "metadata": {},
   "outputs": [
    {
     "data": {
      "text/plain": [
       "[<matplotlib.lines.Line2D at 0x7f72beb7a400>]"
      ]
     },
     "execution_count": 73,
     "metadata": {},
     "output_type": "execute_result"
    },
    {
     "data": {
      "image/png": "[encoded data removed]",
      "text/plain": [
       "<Figure size 432x288 with 1 Axes>"
      ]
     },
     "metadata": {},
     "output_type": "display_data"
    }
   ],
   "source": [
    "x1 = 0.3\n",
    "x2 = 2.5\n",
    "y1 = 0.\n",
    "y2= float(max((f(x)))+1)\n",
    "x = np.arange(0,5,.1)\n",
    "plt.plot(x, f(x))\n",
    "plt.plot([x1,x1],[y1,y2],'r-')\n",
    "plt.plot([x2,x2],[y1,y2],'r-')\n",
    "plt.plot([x1,x2],[y2,y2],'r-')\n",
    "plt.plot([x1,x2],[0,0],'r-')"
   ]
  },
  {
   "cell_type": "markdown",
   "metadata": {},
   "source": [
    "#### What is the area of this rectangle? (2 points)"
   ]
  },
  {
   "cell_type": "code",
   "execution_count": 99,
   "metadata": {},
   "outputs": [],
   "source": [
    "# code here"
   ]
  },
  {
   "cell_type": "markdown",
   "metadata": {},
   "source": [
    "#### Choose one thousand random floating point x-values inside this rectangle \n",
    "(5 points)\n",
    "#### Choose one thousand random floating point y-values inside this rectangle \n",
    "(5 points)"
   ]
  },
  {
   "cell_type": "code",
   "execution_count": 100,
   "metadata": {},
   "outputs": [],
   "source": [
    "# code here"
   ]
  },
  {
   "cell_type": "markdown",
   "metadata": {},
   "source": [
    "#### Now, we're going to check how many points are above our 3x<sup>2</sup> curve and how many are below it.\n",
    "\n",
    "#### Create an empty list named 'check' (1 point)\n",
    "\n",
    "#### Write python statements that perform the following: (7 points)\n",
    "#### if absolute_value(random y) > f(x) then append to check a 0 otherwise append 1\n",
    "#### in other words, for each randomly chosen [x,y] we want to see if the y value is greater than or less than f(x). If it's greater, the randomly chosen point [x,y] is above our function f(x) = 3x<sup>2</sup> and we append 0 to check. If it's less, then the randomly chosen point [x,y] is below our function f(x) = 3x<sup>2</sup> and we append 1 to check\n",
    "\n",
    "#### The area under the f(x) curve from 0.3 to 2.5 can be approximated by examining what fraction of our randomly chosen points are under the curve. Specifically, you can compute this by taking the mean of the list 'check' and multiplying it by the area of the rectangle you computed above. The area we computed earlier is the total area of the rectangle, which includes both above and below f(x). By multiplying this by the fraction of points we found below f(x) we get a rough approximation of the area under the curve, i.e. the integral. \n",
    "\n",
    "#### What is the approximate value of the area under the curve from 0.3 to 2.5 using this method? (2 points)"
   ]
  },
  {
   "cell_type": "code",
   "execution_count": 101,
   "metadata": {},
   "outputs": [],
   "source": [
    "# code here"
   ]
  },
  {
   "cell_type": "markdown",
   "metadata": {},
   "source": [
    "#### Let's visualize this. The code in the cell below will graph the f(x) curve and our red bounding rectangle. Add python statements to this cell that will also show your randomly chosen x and y values as a scatter plot. (3 points)\n",
    "\n",
    "<b>Extra credit points (3 points) for plotting the points above f(x) in a different color to the points below f(x)</b>"
   ]
  },
  {
   "cell_type": "code",
   "execution_count": 102,
   "metadata": {},
   "outputs": [
    {
     "data": {
      "text/plain": [
       "[<matplotlib.lines.Line2D at 0x7f72becb3668>]"
      ]
     },
     "execution_count": 102,
     "metadata": {},
     "output_type": "execute_result"
    },
    {
     "data": {
      "image/png": "[encoded data removed]",
      "text/plain": [
       "<Figure size 432x288 with 1 Axes>"
      ]
     },
     "metadata": {},
     "output_type": "display_data"
    }
   ],
   "source": [
    "x1 = 0.3\n",
    "x2 = 2.5\n",
    "y1 = 0.\n",
    "y2= float(max((f(x)))+1)\n",
    "x = np.arange(0,5,.1)\n",
    "plt.plot(x, f(x))\n",
    "plt.plot([x1,x1],[y1,y2],'r-')\n",
    "plt.plot([x2,x2],[y1,y2],'r-')\n",
    "plt.plot([x1,x2],[y2,y2],'r-')\n",
    "plt.plot([x1,x2],[0,0],'r-')\n",
    "\n",
    "# add scatter plot code here"
   ]
  },
  {
   "cell_type": "markdown",
   "metadata": {},
   "source": [
    "#### What does scipy.integrate.quad return as an approximation of integrating f(x) from 0.3 to 2.5? (2 points)"
   ]
  },
  {
   "cell_type": "code",
   "execution_count": 103,
   "metadata": {},
   "outputs": [],
   "source": [
    "# code here"
   ]
  },
  {
   "cell_type": "markdown",
   "metadata": {},
   "source": [
    "#### The more random points we use the closer our approximation will be to what scipy.integrate.quad outputs. How close do we get if we use 100,000 points? Repeat the above steps for 100,000 randomly [x,y] values (3 points)"
   ]
  },
  {
   "cell_type": "code",
   "execution_count": 104,
   "metadata": {},
   "outputs": [],
   "source": [
    "# code here"
   ]
  }
 ],
 "metadata": {
  "kernelspec": {
   "display_name": "Python [default]",
   "language": "python",
   "name": "python3"
  },
  "language_info": {
   "codemirror_mode": {
    "name": "ipython",
    "version": 3
   },
   "file_extension": ".py",
   "mimetype": "text/x-python",
   "name": "python",
   "nbconvert_exporter": "python",
   "pygments_lexer": "ipython3",
   "version": "3.6.6"
  }
 },
 "nbformat": 4,
 "nbformat_minor": 2
}
