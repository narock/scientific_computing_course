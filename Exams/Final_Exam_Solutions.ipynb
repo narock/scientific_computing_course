{
 "cells": [
  {
   "cell_type": "markdown",
   "metadata": {},
   "source": [
    "# Final Exam - 100 points"
   ]
  },
  {
   "cell_type": "markdown",
   "metadata": {},
   "source": [
    "#### 1.) The following figure shows two curves. The top curve is f(x) = -x<sup>2</sup> + 4x + 3 and the bottom curve is g(x) = -x<sup>3</sup> + 7x<sup>2</sup> - 10x + 5. What is the area between the two curves in the interval [1,2]? In other words, what is the area of the pink shaded region? (6 points)\n",
    "\n",
    "![](https://narock.github.io/teaching/CST-411/final_exam_figure_1.png)"
   ]
  },
  {
   "cell_type": "code",
   "execution_count": 39,
   "metadata": {},
   "outputs": [
    {
     "name": "stdout",
     "output_type": "stream",
     "text": [
      "Shaded in area = 4.083333333333334\n"
     ]
    }
   ],
   "source": [
    "import numpy as np\n",
    "import pandas as pd\n",
    "import scipy.integrate \n",
    "import matplotlib.pyplot as plt\n",
    "\n",
    "def f(x):\n",
    "    return -x**2 + 4*x + 3\n",
    "\n",
    "def g(x):\n",
    "    return -x**3 + 7*x**2 - 10*x + 5\n",
    "\n",
    "fx = scipy.integrate.quad(f, 1, 2)\n",
    "gx = scipy.integrate.quad(g, 1, 2)\n",
    "diff = fx[0] - gx[0]\n",
    "print(\"Shaded in area =\", diff)"
   ]
  },
  {
   "cell_type": "markdown",
   "metadata": {},
   "source": [
    "#### 2.) A system of linear equations is given by:\n",
    "#### 3x + 2y - z = 1\n",
    "#### 2x - 2y + 4z = -2\n",
    "#### -x + 0.5y - z = 0\n",
    "#### What are the values of x, y, and z that simultaneously solve all three equations? (3 points)"
   ]
  },
  {
   "cell_type": "code",
   "execution_count": 11,
   "metadata": {},
   "outputs": [
    {
     "data": {
      "text/plain": [
       "array([[ 1.],\n",
       "       [-2.],\n",
       "       [-2.]])"
      ]
     },
     "execution_count": 11,
     "metadata": {},
     "output_type": "execute_result"
    }
   ],
   "source": [
    "A = np.array([[3, 2, -1], [2, -2, 4], [-1, 0.5, -1]])\n",
    "B = np.array([[1],[-2],[0]])\n",
    "np.linalg.solve(A,B)"
   ]
  },
  {
   "cell_type": "markdown",
   "metadata": {},
   "source": [
    "#### 3.) What is a Monte Carlo simulation? (6 points)"
   ]
  },
  {
   "cell_type": "markdown",
   "metadata": {},
   "source": [
    "#### 4.) There is a dataset on Iris flowers available at\n",
    " http://narock.github.io/teaching/CST-411/visualization/iris.csv\n",
    "#### Use the Pandas library to read the data into this notebook. Use the head() function to list the first few lines of the dataset. The data are in rows and columns with each column separated by a comma (CSV file) (3 points)"
   ]
  },
  {
   "cell_type": "code",
   "execution_count": 15,
   "metadata": {},
   "outputs": [
    {
     "data": {
      "text/html": [
       "<div>\n",
       "<style scoped>\n",
       "    .dataframe tbody tr th:only-of-type {\n",
       "        vertical-align: middle;\n",
       "    }\n",
       "\n",
       "    .dataframe tbody tr th {\n",
       "        vertical-align: top;\n",
       "    }\n",
       "\n",
       "    .dataframe thead th {\n",
       "        text-align: right;\n",
       "    }\n",
       "</style>\n",
       "<table border=\"1\" class=\"dataframe\">\n",
       "  <thead>\n",
       "    <tr style=\"text-align: right;\">\n",
       "      <th></th>\n",
       "      <th>Id</th>\n",
       "      <th>SepalLengthCm</th>\n",
       "      <th>SepalWidthCm</th>\n",
       "      <th>PetalLengthCm</th>\n",
       "      <th>PetalWidthCm</th>\n",
       "      <th>Species</th>\n",
       "    </tr>\n",
       "  </thead>\n",
       "  <tbody>\n",
       "    <tr>\n",
       "      <th>0</th>\n",
       "      <td>1</td>\n",
       "      <td>5.1</td>\n",
       "      <td>3.5</td>\n",
       "      <td>1.4</td>\n",
       "      <td>0.2</td>\n",
       "      <td>Iris-setosa</td>\n",
       "    </tr>\n",
       "    <tr>\n",
       "      <th>1</th>\n",
       "      <td>2</td>\n",
       "      <td>4.9</td>\n",
       "      <td>3.0</td>\n",
       "      <td>1.4</td>\n",
       "      <td>0.2</td>\n",
       "      <td>Iris-setosa</td>\n",
       "    </tr>\n",
       "    <tr>\n",
       "      <th>2</th>\n",
       "      <td>3</td>\n",
       "      <td>4.7</td>\n",
       "      <td>3.2</td>\n",
       "      <td>1.3</td>\n",
       "      <td>0.2</td>\n",
       "      <td>Iris-setosa</td>\n",
       "    </tr>\n",
       "    <tr>\n",
       "      <th>3</th>\n",
       "      <td>4</td>\n",
       "      <td>4.6</td>\n",
       "      <td>3.1</td>\n",
       "      <td>1.5</td>\n",
       "      <td>0.2</td>\n",
       "      <td>Iris-setosa</td>\n",
       "    </tr>\n",
       "    <tr>\n",
       "      <th>4</th>\n",
       "      <td>5</td>\n",
       "      <td>5.0</td>\n",
       "      <td>3.6</td>\n",
       "      <td>1.4</td>\n",
       "      <td>0.2</td>\n",
       "      <td>Iris-setosa</td>\n",
       "    </tr>\n",
       "  </tbody>\n",
       "</table>\n",
       "</div>"
      ],
      "text/plain": [
       "   Id  SepalLengthCm  SepalWidthCm  PetalLengthCm  PetalWidthCm      Species\n",
       "0   1            5.1           3.5            1.4           0.2  Iris-setosa\n",
       "1   2            4.9           3.0            1.4           0.2  Iris-setosa\n",
       "2   3            4.7           3.2            1.3           0.2  Iris-setosa\n",
       "3   4            4.6           3.1            1.5           0.2  Iris-setosa\n",
       "4   5            5.0           3.6            1.4           0.2  Iris-setosa"
      ]
     },
     "execution_count": 15,
     "metadata": {},
     "output_type": "execute_result"
    }
   ],
   "source": [
    "url = 'http://narock.github.io/teaching/CST-411/visualization/iris.csv'\n",
    "iris = pd.read_csv(url)\n",
    "iris.head()"
   ]
  },
  {
   "cell_type": "markdown",
   "metadata": {},
   "source": [
    "#### 5.) The columns PetalLenghtCm and PetalWidthCm from the above iris.csv file contain measurements, in centimeters, of Iris flower petal length and petal width, respectively. Make a scatter plot with petal length on the x-axis and petal width on the y-axis. Label both the x and y axes. Create a title for the visualization as well. (4 points)"
   ]
  },
  {
   "cell_type": "code",
   "execution_count": 27,
   "metadata": {},
   "outputs": [
    {
     "data": {
      "text/plain": [
       "Text(0.5,1,'Iris Flower')"
      ]
     },
     "execution_count": 27,
     "metadata": {},
     "output_type": "execute_result"
    },
    {
     "data": {
      "image/png": "[encoded data removed]",
      "text/plain": [
       "<Figure size 432x288 with 1 Axes>"
      ]
     },
     "metadata": {},
     "output_type": "display_data"
    }
   ],
   "source": [
    "plt.scatter(iris['PetalLengthCm'],iris['PetalWidthCm'])\n",
    "plt.xlabel('Petal Length (cm)')\n",
    "plt.ylabel('Petal Width (cm)')\n",
    "plt.title('Iris Flower')"
   ]
  },
  {
   "cell_type": "markdown",
   "metadata": {},
   "source": [
    "#### 6.) Looking at the visualization from 5., it looks like there is a linear relationship between petal length and petal width. Let's fit the data to a straight line y = mx + b. What are the \"best\" values of m and b to use? (4 points) "
   ]
  },
  {
   "cell_type": "code",
   "execution_count": 29,
   "metadata": {},
   "outputs": [
    {
     "name": "stdout",
     "output_type": "stream",
     "text": [
      "Best fit for m:  0.4164191327469227 best fit for b: -0.36651404713788666\n"
     ]
    }
   ],
   "source": [
    "import scipy.optimize\n",
    "\n",
    "def line(x, m, b):\n",
    "    return m*x + b\n",
    "    \n",
    "fit, covar = scipy.optimize.curve_fit(line, iris['PetalLengthCm'], iris['PetalWidthCm'])\n",
    "print(\"Best fit for m: \", fit[0], \"best fit for b:\", fit[1])"
   ]
  },
  {
   "cell_type": "markdown",
   "metadata": {},
   "source": [
    "#### 7.) Plot the best fit line on top of the data points. Specifically, make a scatter plot with Petal Length on the x-axis and Petal Width on the y-axis. Plot the best fit line on the same plot in red. Label the x and y axes and also create a plot title (6 points)"
   ]
  },
  {
   "cell_type": "code",
   "execution_count": 33,
   "metadata": {},
   "outputs": [
    {
     "data": {
      "text/plain": [
       "Text(0.5,1,'Iris Flower')"
      ]
     },
     "execution_count": 33,
     "metadata": {},
     "output_type": "execute_result"
    },
    {
     "data": {
      "image/png": "[encoded data removed]",
      "text/plain": [
       "<Figure size 432x288 with 1 Axes>"
      ]
     },
     "metadata": {},
     "output_type": "display_data"
    }
   ],
   "source": [
    "y = fit[0]*iris['PetalLengthCm'] + fit[1]\n",
    "plt.plot(iris['PetalLengthCm'], y, color='red')\n",
    "plt.scatter(iris['PetalLengthCm'], iris['PetalWidthCm'])\n",
    "plt.xlabel('Petal Length (cm)')\n",
    "plt.ylabel('Petal Width (cm)')\n",
    "plt.title('Iris Flower')"
   ]
  },
  {
   "cell_type": "markdown",
   "metadata": {},
   "source": [
    "#### 8.) How well does the best fit line fit the data? Choose a statistic that compares model fits to data points. There were at least two discussed in class. You may choose which ever one you prefer. Apply the chosen statistic and discuss the result. (5 points)"
   ]
  },
  {
   "cell_type": "code",
   "execution_count": 37,
   "metadata": {},
   "outputs": [
    {
     "name": "stdout",
     "output_type": "stream",
     "text": [
      "R-squared: 0.9863246649994856\n"
     ]
    }
   ],
   "source": [
    "residuals = iris['PetalWidthCm'] - y\n",
    "ss_res = np.sum(residuals**2)\n",
    "ss_tot = np.sum((iris['PetalLengthCm']-np.mean(iris['PetalLengthCm']))**2)\n",
    "r_squared = 1 - (ss_res / ss_tot)\n",
    "print(\"R-squared:\", r_squared)"
   ]
  },
  {
   "cell_type": "markdown",
   "metadata": {},
   "source": [
    "#### 9.) A particle moves in the xy-plane. At any time t ≥ 0 the particle’s x any y positions can be found by\n",
    "\n",
    "x = -3t<sup>3</sup> + 4t<sup>2</sup>\n",
    "\n",
    "y = t<sup>3</sup> + 2 \n",
    "\n",
    "#### Acceleration is the second derivative of position. What is the particle’s x and y acceleration at t = 3? (6 points)\n"
   ]
  },
  {
   "cell_type": "code",
   "execution_count": 42,
   "metadata": {},
   "outputs": [
    {
     "name": "stdout",
     "output_type": "stream",
     "text": [
      "Acceration in the x-direction, -46.01474756782409\n",
      "Acceration in the y-direction, 18.001600210482138\n"
     ]
    }
   ],
   "source": [
    "import scipy.misc\n",
    "\n",
    "def x(t):\n",
    "    return -3*t**3 + 4*t**2\n",
    "\n",
    "def y(t):\n",
    "    return t**3 + 2\n",
    "\n",
    "ax = scipy.misc.derivative(x, 3, n=2, dx=1e-6)\n",
    "ay = scipy.misc.derivative(y, 3, n=2, dx=1e-6)\n",
    "print(\"Acceration in the x-direction,\", ax)\n",
    "print(\"Acceration in the y-direction,\", ay)"
   ]
  },
  {
   "cell_type": "markdown",
   "metadata": {},
   "source": [
    "#### 10.) Our factory is producing Wonderful Widgets. Our revenue (in thousands of dollars) is given by:  r(x) = 10x. \n",
    "\n",
    "#### For example, selling one widget = r(1) = 10*1 = 10 = $10,000\n",
    "\n",
    "#### But, we have to pay electricity bills, and our employees, and take care of other costs. Our total costs are given by:  c(x) = x<sup>3</sup> – 6x<sup>2</sup> + 15x,  also in thousands of dollars\n",
    "\n",
    "#### Selling one widget cost c(1) = 1<sup>3</sup> – 6*1<sup>2</sup> + 15 = 1 - 6 + 15 = 10 = $10,000\n",
    "\n",
    "#### Selling just one widget, we break even. How many widgets do we need to sell to maximize our profit? We'll solve this two ways.\n"
   ]
  },
  {
   "cell_type": "markdown",
   "metadata": {},
   "source": [
    "#### First, through visualization. \n",
    "\n",
    "#### Define a function that describes our profits as a function of x (widgets sold). In other words, how would you combine the revenue function, r(x), and the cost function, c(x), to get a profit function, p(x)? (3 points)\n",
    "\n",
    "#### Visualize the profit function with labels on both the x and y axis (4 points)\n",
    "\n",
    "#### Find the maximum of the profit function. (3 points)\n",
    "\n",
    "#### How many widgets sold does the maximum correspond to? (3 points)"
   ]
  },
  {
   "cell_type": "code",
   "execution_count": null,
   "metadata": {},
   "outputs": [],
   "source": []
  },
  {
   "cell_type": "markdown",
   "metadata": {},
   "source": [
    "***\n",
    "\n",
    "#### 10. Part b.) - Now, we'll solve the same problem, but this time using derivatives.\n",
    "\n",
    "#### A point c is a critical point of the function f if the first derivative of f, evaluated at c, equals 0. f'(c) = 0\n",
    "\n",
    "#### What are the critical points of your profit function? (7 points)\n",
    "\n",
    "#### A critical point c is a maximum when f’’(c) < 0. Which of your critical points is a maximum? (4 points)\n",
    "\n",
    "#### Place the critical point corresponding to the maximum into your profit function and print out how many widgets we need to sell to maximize our profits AND what the profits will be when that many widgets are sold. (3 points)"
   ]
  },
  {
   "cell_type": "code",
   "execution_count": 44,
   "metadata": {},
   "outputs": [
    {
     "name": "stdout",
     "output_type": "stream",
     "text": [
      "The critical points are 0.4724747683480534 and 3.5275252316519463\n"
     ]
    }
   ],
   "source": [
    "import math\n",
    "#f1 = -3x**2 + 12*x - 5\n",
    "a = -3\n",
    "b = 12\n",
    "c = -5\n",
    "c1 = (-b + math.sqrt(b**2 - 4*a*c)) / (2 * a)\n",
    "c2 = (-b - math.sqrt(b**2 - 4*a*c)) / (2 * a)\n",
    "print(\"The critical points are\", c1, \"and\", c2)"
   ]
  },
  {
   "cell_type": "code",
   "execution_count": 45,
   "metadata": {},
   "outputs": [
    {
     "name": "stdout",
     "output_type": "stream",
     "text": [
      "9.165151389911678 -9.165151389911706\n",
      "The second critical point is a maximum\n"
     ]
    }
   ],
   "source": [
    "def profit(x):\n",
    "    return -x**3 + 6*x**2 - 5*x\n",
    "\n",
    "a1 = scipy.misc.derivative(profit, c1, n=2) \n",
    "a2 = scipy.misc.derivative(profit, c2, n=2) \n",
    "print(a1, a2)\n",
    "print(\"The second critical point is a maximum\")"
   ]
  },
  {
   "cell_type": "code",
   "execution_count": 46,
   "metadata": {},
   "outputs": [
    {
     "name": "stdout",
     "output_type": "stream",
     "text": [
      "Our profit is maximized at x = 3.5275252316519463 thousand widgets\n",
      "Our profit there will be 13.128451081042424 thousand dollars\n"
     ]
    }
   ],
   "source": [
    "print(\"Our profit is maximized at x =\", c2, \"thousand widgets\")\n",
    "print(\"Our profit there will be\", profit(c2), \"thousand dollars\")"
   ]
  },
  {
   "cell_type": "markdown",
   "metadata": {},
   "source": [
    "#### 11.) Monte Carlo simulation can be used to approximate integration. In this problem, we're going to step through how this can be done and compare the results to Scipy's integration approximation.\n",
    "\n",
    "#### The function we are going to integration is 3x<sup>2</sup>. Here's what this function looks like over the interval [0,5]. \n",
    "\n",
    "#### We'd like to integrate from 0.3 to 2.5, the shaded region"
   ]
  },
  {
   "cell_type": "code",
   "execution_count": 82,
   "metadata": {},
   "outputs": [
    {
     "data": {
      "text/plain": [
       "<matplotlib.collections.PolyCollection at 0x7f72beba4748>"
      ]
     },
     "execution_count": 82,
     "metadata": {},
     "output_type": "execute_result"
    },
    {
     "data": {
      "image/png": "[encoded data removed]",
      "text/plain": [
       "<Figure size 432x288 with 1 Axes>"
      ]
     },
     "metadata": {},
     "output_type": "display_data"
    }
   ],
   "source": [
    "def f(x):\n",
    "    return 3*x**2\n",
    "\n",
    "x = np.arange(0,5,.1)\n",
    "plt.plot(x, f(x))\n",
    "\n",
    "x_shaded = np.arange(0.3,2.5,0.1)\n",
    "y_shaded = f(x_shaded)\n",
    "plt.fill_between(x_shaded, y_shaded, facecolor='red')"
   ]
  },
  {
   "cell_type": "markdown",
   "metadata": {},
   "source": [
    "#### The first step is to create a rectangle over the interval we are interested in."
   ]
  },
  {
   "cell_type": "code",
   "execution_count": 73,
   "metadata": {},
   "outputs": [
    {
     "data": {
      "text/plain": [
       "[<matplotlib.lines.Line2D at 0x7f72beb7a400>]"
      ]
     },
     "execution_count": 73,
     "metadata": {},
     "output_type": "execute_result"
    },
    {
     "data": {
      "image/png": "[encoded data removed]",
      "text/plain": [
       "<Figure size 432x288 with 1 Axes>"
      ]
     },
     "metadata": {},
     "output_type": "display_data"
    }
   ],
   "source": [
    "x1 = 0.3\n",
    "x2 = 2.5\n",
    "y1 = 0.\n",
    "y2= float(max((f(x)))+1)\n",
    "x = np.arange(0,5,.1)\n",
    "plt.plot(x, f(x))\n",
    "plt.plot([x1,x1],[y1,y2],'r-')\n",
    "plt.plot([x2,x2],[y1,y2],'r-')\n",
    "plt.plot([x1,x2],[y2,y2],'r-')\n",
    "plt.plot([x1,x2],[0,0],'r-')"
   ]
  },
  {
   "cell_type": "markdown",
   "metadata": {},
   "source": [
    "#### What is the area of this rectangle? (2 points)"
   ]
  },
  {
   "cell_type": "code",
   "execution_count": 54,
   "metadata": {},
   "outputs": [
    {
     "name": "stdout",
     "output_type": "stream",
     "text": [
      "160.66600000000005\n"
     ]
    }
   ],
   "source": [
    "area=(x2-x1)*(y2-y1)\n",
    "print(area)"
   ]
  },
  {
   "cell_type": "markdown",
   "metadata": {},
   "source": [
    "#### Choose one thousand random floating point x-values inside this rectangle (5 points)\n",
    "#### Choose one thousand random floating point y-values inside this rectangle (5 points)\n",
    "\n",
    "#### Now, we're going to check how many points are above our 3x<sup>2</sup> curve and how many are below it.\n",
    "\n",
    "#### Create an empty list named 'check' (1 point)\n",
    "\n",
    "#### Write python statements that perform the following: (7 points)\n",
    "#### if absolute_value(random y) > f(x) then append to check a 0 otherwise append 1\n",
    "#### in other words, for each randomly chosen [x,y] we want to see if the y value is greater than or less than f(x). If it's greater, the randomly chosen point [x,y] is above our function f(x) = 3x<sup>2</sup> and we append 0 to check. If it's less, then the randomly chosen point [x,y] is below our function f(x) = 3x<sup>2</sup> and we append 1 to check\n",
    "\n",
    "#### The area under the f(x) curve from 0.3 to 2.5 can be approximated by examining what fraction of our randomly chosen points are under the curve. Specifically, you can compute this by taking the mean of the list 'check' and multiplying it by the area of the rectangle you computed above. The area we computed earlier is the total area of the rectangle, which includes both above and below f(x). By multiplying this by the fraction of points we found below f(x) we get a rough approximation of the area under the curve, i.e. the integral. \n",
    "\n",
    "#### What is the approximate value of the area under the curve from 0.3 to 2.5 using this method? (2 points)"
   ]
  },
  {
   "cell_type": "code",
   "execution_count": 80,
   "metadata": {},
   "outputs": [
    {
     "name": "stdout",
     "output_type": "stream",
     "text": [
      "Area under the curve between 0.3 and 2.5 is 18.155258000000007\n"
     ]
    }
   ],
   "source": [
    "xs = []\n",
    "ys = []\n",
    "check = []\n",
    "for i in range(1000):\n",
    "    \n",
    "    x = np.random.uniform(x1, x2)\n",
    "    y = np.random.uniform(y1, y2)\n",
    "    xs.append(x)\n",
    "    ys.append(y)\n",
    "\n",
    "    if abs(ys[i])>abs(f(xs[i])):\n",
    "        check.append(0)\n",
    "    else:\n",
    "        check.append(1)\n",
    "        \n",
    "print(\"Area under the curve between 0.3 and 2.5 is\", np.mean(check)*area)"
   ]
  },
  {
   "cell_type": "markdown",
   "metadata": {},
   "source": [
    "#### Let's visualize this. The code in the cell below will graph the f(x) curve and our red bounding rectangle. Add python statements to this cell that will also show your randomly chosen x and y values as a scatter plot. (3 points)\n",
    "\n",
    "<b>Extra credit points (3 points) for plotting the points above f(x) in a different color to the points below f(x)</b>"
   ]
  },
  {
   "cell_type": "code",
   "execution_count": 87,
   "metadata": {},
   "outputs": [
    {
     "data": {
      "text/plain": [
       "<matplotlib.collections.PathCollection at 0x7f72bec145f8>"
      ]
     },
     "execution_count": 87,
     "metadata": {},
     "output_type": "execute_result"
    },
    {
     "data": {
      "image/png": "[encoded data removed]",
      "text/plain": [
       "<Figure size 432x288 with 1 Axes>"
      ]
     },
     "metadata": {},
     "output_type": "display_data"
    }
   ],
   "source": [
    "x1 = 0.3\n",
    "x2 = 2.5\n",
    "y1 = 0.\n",
    "y2= float(max((f(x)))+1)\n",
    "x = np.arange(0,5,.1)\n",
    "plt.plot(x, f(x))\n",
    "plt.plot([x1,x1],[y1,y2],'r-')\n",
    "plt.plot([x2,x2],[y1,y2],'r-')\n",
    "plt.plot([x1,x2],[y2,y2],'r-')\n",
    "plt.plot([x1,x2],[0,0],'r-')\n",
    "\n",
    "colors = []\n",
    "for i in range(1000):\n",
    "    if (check[i] == 1):\n",
    "        colors.append('green')\n",
    "    else:\n",
    "        colors.append('red')\n",
    "plt.scatter(xs,ys, color = colors)"
   ]
  },
  {
   "cell_type": "markdown",
   "metadata": {},
   "source": [
    "#### What does scipy.integrate.quad return as an approximation of integrating f(x) from 0.3 to 2.5? (2 points)"
   ]
  },
  {
   "cell_type": "code",
   "execution_count": 77,
   "metadata": {},
   "outputs": [
    {
     "name": "stdout",
     "output_type": "stream",
     "text": [
      "15.598000000000004\n"
     ]
    }
   ],
   "source": [
    "I = scipy.integrate.quad(f, 0.3, 2.5)\n",
    "print(I[0])"
   ]
  },
  {
   "cell_type": "markdown",
   "metadata": {},
   "source": [
    "#### The more random points we use the closer our approximation will be to what scipy.integrate.quad outputs. How close do we get if we use 100,000 points? Repeat the above steps for 100,000 randomly [x,y] values (3 points)"
   ]
  },
  {
   "cell_type": "code",
   "execution_count": 79,
   "metadata": {},
   "outputs": [
    {
     "name": "stdout",
     "output_type": "stream",
     "text": [
      "Area under the curve between 0.3 and 2.5 is 15.762941260000005\n"
     ]
    }
   ],
   "source": [
    "xs = []\n",
    "ys = []\n",
    "check = []\n",
    "for i in range(100000):\n",
    "    \n",
    "    x = np.random.uniform(x1, x2)\n",
    "    y = np.random.uniform(y1, y2)\n",
    "    xs.append(x)\n",
    "    ys.append(y)\n",
    "\n",
    "    if abs(ys[i])>abs(f(xs[i])):\n",
    "        check.append(0)\n",
    "    else:\n",
    "        check.append(1)\n",
    "        \n",
    "print(\"Area under the curve between 0.3 and 2.5 is\", np.mean(check)*area)"
   ]
  }
 ],
 "metadata": {
  "kernelspec": {
   "display_name": "Python [default]",
   "language": "python",
   "name": "python3"
  },
  "language_info": {
   "codemirror_mode": {
    "name": "ipython",
    "version": 3
   },
   "file_extension": ".py",
   "mimetype": "text/x-python",
   "name": "python",
   "nbconvert_exporter": "python",
   "pygments_lexer": "ipython3",
   "version": "3.6.6"
  }
 },
 "nbformat": 4,
 "nbformat_minor": 2
}
