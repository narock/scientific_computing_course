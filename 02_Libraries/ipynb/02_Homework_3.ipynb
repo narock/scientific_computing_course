{
 "cells": [
  {
   "cell_type": "markdown",
   "metadata": {},
   "source": [
    "## Homework 3 - Pandas and Matplotlib"
   ]
  },
  {
   "cell_type": "markdown",
   "metadata": {},
   "source": [
    "#### The [Titanic](https://en.wikipedia.org/wiki/RMS_Titanic) was a famous cruise ship that sank after running into an iceburg. The [movie that was made about the Titanic](https://en.wikipedia.org/wiki/Titanic_(1997_film)) was one of the highest grossing films of all times. \n",
    "\n",
    "#### This Notebook uses Pandas and Matplotlib to explore the Titanic disaster"
   ]
  },
  {
   "cell_type": "markdown",
   "metadata": {},
   "source": [
    "Imports we will need and set up matplotlib to plot in the correct place"
   ]
  },
  {
   "cell_type": "code",
   "execution_count": 23,
   "metadata": {},
   "outputs": [],
   "source": [
    "import pandas as pd\n",
    "import numpy as np\n",
    "import matplotlib.pyplot as plt\n",
    "\n",
    "%matplotlib inline"
   ]
  },
  {
   "cell_type": "markdown",
   "metadata": {},
   "source": [
    "1.) Read the data from the Internet into Pandas (1 point)"
   ]
  },
  {
   "cell_type": "code",
   "execution_count": 36,
   "metadata": {},
   "outputs": [],
   "source": [
    "url = 'https://raw.githubusercontent.com/guipsamora/pandas_exercises/master/07_Visualization/Titanic_Desaster/train.csv'\n",
    "# read from the above url"
   ]
  },
  {
   "cell_type": "markdown",
   "metadata": {},
   "source": [
    "2.) How many rows and columns does this dataset have? (1 point)"
   ]
  },
  {
   "cell_type": "code",
   "execution_count": 37,
   "metadata": {},
   "outputs": [],
   "source": [
    "# code here"
   ]
  },
  {
   "cell_type": "markdown",
   "metadata": {},
   "source": [
    "3.) How many women and how many men were onboard the Titanic (according to this dataset)? (2 points)"
   ]
  },
  {
   "cell_type": "code",
   "execution_count": 38,
   "metadata": {},
   "outputs": [],
   "source": [
    "# code here"
   ]
  },
  {
   "cell_type": "markdown",
   "metadata": {},
   "source": [
    "4.) The Titanic had multiple fair classes. This is analogous to first class, business class, and economy tickets today. Create a scatter plot showing the fair paid by age. If you've imported matplotlib as plt, then a scatter plot is done by plt.scatter(x,y). Within the titanic dataset, the columns to use are 'Age' and 'Fare'. Place age on the x-axis and fare on the y-axis. Label each axis and set a title. (4 points)"
   ]
  },
  {
   "cell_type": "code",
   "execution_count": 39,
   "metadata": {},
   "outputs": [],
   "source": [
    "# code here"
   ]
  },
  {
   "cell_type": "markdown",
   "metadata": {},
   "source": [
    "5.) Let's repeat question 4, but this time separate out men and women. We want to create one scatter plot with women and men plotted together using different color dots. Add a legend so we know which color goes with which data. (6 points)"
   ]
  },
  {
   "cell_type": "code",
   "execution_count": 40,
   "metadata": {},
   "outputs": [],
   "source": [
    "# code here"
   ]
  },
  {
   "cell_type": "markdown",
   "metadata": {},
   "source": [
    "6.) Create to separate histograms within one visualization window - what matplotlib calls a subplot. The top panel should be a histogram of women fares and the bottom panel a histogram of men fares. Matplotlib's hist function has an option input 'bins' that we can use to set the size of the bins in our histogram. From the scatter plots above we can see that the highest paid fare is jus over 500. Let's use this information to have the histogram bins range from 0 to 550 and each bin have a width of 10. We can do this using numpy's arange function: binVal = np.arange(0,550,10) and then pass this to hist() as: plt.hist(data, bins=binVal) (4 points)"
   ]
  },
  {
   "cell_type": "code",
   "execution_count": 41,
   "metadata": {},
   "outputs": [],
   "source": [
    "# code here"
   ]
  },
  {
   "cell_type": "markdown",
   "metadata": {},
   "source": [
    "7.) Our dataset has a column labeled 'Survived'. This column has two possible values 0 and 1. 0 indicates the person did not survive the sinking of the Titanic. 1 indicates the person did survive. How many people survived and how many did not? (2 points)"
   ]
  },
  {
   "cell_type": "code",
   "execution_count": 42,
   "metadata": {},
   "outputs": [],
   "source": [
    "# code here"
   ]
  },
  {
   "cell_type": "markdown",
   "metadata": {},
   "source": [
    "Option Bonus Question: 2 points extra credit. How many men survived and how many women survived?"
   ]
  },
  {
   "cell_type": "code",
   "execution_count": 43,
   "metadata": {},
   "outputs": [],
   "source": [
    "# code here"
   ]
  }
 ],
 "metadata": {
  "kernelspec": {
   "display_name": "Python [default]",
   "language": "python",
   "name": "python3"
  },
  "language_info": {
   "codemirror_mode": {
    "name": "ipython",
    "version": 3
   },
   "file_extension": ".py",
   "mimetype": "text/x-python",
   "name": "python",
   "nbconvert_exporter": "python",
   "pygments_lexer": "ipython3",
   "version": "3.6.6"
  }
 },
 "nbformat": 4,
 "nbformat_minor": 2
}
