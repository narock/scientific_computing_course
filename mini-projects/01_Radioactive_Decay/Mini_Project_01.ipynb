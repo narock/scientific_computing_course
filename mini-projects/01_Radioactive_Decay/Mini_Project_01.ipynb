{
 "cells": [
  {
   "cell_type": "markdown",
   "metadata": {},
   "source": [
    "## Mini-Project 1 - Monte Carlo Simulation of Radioactive Decay"
   ]
  },
  {
   "cell_type": "markdown",
   "metadata": {},
   "source": [
    "#### A radioactive isotope is an atom that has excess nuclear energy, making it unstable. This excess energy causes the atom to breakdown in a process called radioactive decay. For more information see [this Wikipedia article](https://en.wikipedia.org/wiki/Radionuclide).\n",
    "\n",
    "#### If we have a sample of radioactive isotopes, the \"radioactive half-life\" is the time it takes for half the atoms in the sample to decay. \"Radioactive half-life\" is often shortened to just \"half-life\". After two half-lives, there will be one fourth the original sample, after three half-lives one eigth the original sample, and so forth. For example: \n",
    "![alt text](http://hyperphysics.phy-astr.gsu.edu/hbase/Nuclear/imgnuc/hlcurv.gif)\n",
    "\n",
    "##### Image credit: http://hyperphysics.phy-astr.gsu.edu/hbase/Nuclear/halfli.html#c1\n"
   ]
  },
  {
   "cell_type": "markdown",
   "metadata": {},
   "source": [
    "Different elements have different half-lives. For example, the half-life of uranium-238 is 4.5 billion years. The half-life of plutonium-239 is 24,100 years and the half-life of thallium-201 is 73.1 hours. Given a container of thallium-201, half of the atoms will decay in 73.1 hours. Given a same size container of uranium-238, it will take 4.5 billion years before half the atoms decay.\n",
    "\n",
    "The half-life of an element doesn't change. However, which atoms in the container actually decay is a truly random process. For any given atom, there is a probability of decay. The probability of decay is given by a constant times the time step. For example, element X has a decay rate, alpha, of 0.01 s<sup>-1</sup>. The probability of a particular atom decaying in 1 second is: probability = 0.01 * 1 = 0.01\n",
    "\n",
    "1.) Write a Monte Carlo simulation to simulate the decay of 100 atoms of element X with a time step of 1 second. Run your simulation for 300 seconds. Graph the number of remaining atoms at each 1 second time step.\n",
    "\n",
    "We can also solve the decay rate analytically. At each time step, the number of atoms remaining (not decayed), N, is given by: \n",
    "N = (original number of atoms in sample)*e<sup>-y</sup> where y = alpha * number of elapsed seconds. For example, after 1 second: y = -0.01 * 1 = -0.01 and \n",
    "N = 100 * e<sup>-0.01</sup>. \n",
    "After 2 seconds, y = -0.01 * 2 = -0.02 and\n",
    "N = 100 * e<sup>-0.02</sup>, etc., etc.\n",
    "\n",
    "Plot the analytical solution on top of the Monte Carlo solution. In other words, make a single panel plot with the two results plotted on top of each other. Not a multi-panel plot."
   ]
  },
  {
   "cell_type": "code",
   "execution_count": 71,
   "metadata": {},
   "outputs": [],
   "source": [
    "# code here"
   ]
  },
  {
   "cell_type": "markdown",
   "metadata": {},
   "source": [
    "2.) Does your Monte Carlo simulation agree with the analytical solution? What does the Monte Carlo simulation say is the half-life of element X? What does the analytical solution say is the half-life of element X?"
   ]
  },
  {
   "cell_type": "markdown",
   "metadata": {},
   "source": [
    "3.) Let's try again, but this time with 5,000 atoms in our sample. Repeat question 1. with 5,000 atoms (same alpha, same time step, same probability, same 300 second simulation, just a larger sample of atoms)"
   ]
  },
  {
   "cell_type": "code",
   "execution_count": 72,
   "metadata": {},
   "outputs": [],
   "source": [
    "# code here"
   ]
  },
  {
   "cell_type": "markdown",
   "metadata": {},
   "source": [
    "4.) How do the results compare with 5,000 atoms in our sample? Why do you think this is?"
   ]
  },
  {
   "cell_type": "markdown",
   "metadata": {},
   "source": [
    "5.) Modify your simulation to keep track of how many decays happen in every 10-second window. For each scenario (the 100 atom sample and the 5,000 atom sample) run the simulation 1000 times. Make a histogram for each scenario showing the distribution of decays per 10-second window.\n",
    "\n",
    "Running the two simulation 1000 time each may take 2 to 3 minutes. It's recommended that you place the histogram code in a separate cell from the simulations. This way, you can update the histograms without having to re-run the simulations.\n",
    "\n",
    "You may find it easier to write your simulation as a function and call it twice - once with 100 atoms and a second time with 5000 atoms"
   ]
  },
  {
   "cell_type": "code",
   "execution_count": 73,
   "metadata": {},
   "outputs": [],
   "source": [
    "# simulation here"
   ]
  },
  {
   "cell_type": "code",
   "execution_count": 74,
   "metadata": {},
   "outputs": [],
   "source": [
    "# histograms here"
   ]
  },
  {
   "cell_type": "markdown",
   "metadata": {},
   "source": [
    "##### 6.) The probability of a certain number of atoms decaying in a time window can be solve analytically as: \n",
    "\n",
    "p = [ (alpha * n * T)<sup>n</sup> * e<sup>-alpha * n * T</sup> ] / n!\n",
    "\n",
    "where T is the time window (10 seconds in our case), n is the number of atoms decaying, and alpha is our decay rate from earlier (0.01). What is the probability of 5 atoms decaying in 10 seconds?"
   ]
  },
  {
   "cell_type": "code",
   "execution_count": 75,
   "metadata": {},
   "outputs": [],
   "source": [
    "# code here"
   ]
  },
  {
   "cell_type": "markdown",
   "metadata": {},
   "source": [
    "7.) How many times did 5 atoms actually decay in our simulations? Hint: if you have an list you can use the count() function to find number of occurances. For example, if we have a list named x and we'd like to find how many times 5 occurs, we can do: print(x.count(5))"
   ]
  },
  {
   "cell_type": "code",
   "execution_count": 76,
   "metadata": {},
   "outputs": [],
   "source": [
    "# code here"
   ]
  },
  {
   "cell_type": "markdown",
   "metadata": {},
   "source": [
    "8.) Would you like to add anything to question 4?"
   ]
  }
 ],
 "metadata": {
  "kernelspec": {
   "display_name": "Python [default]",
   "language": "python",
   "name": "python3"
  },
  "language_info": {
   "codemirror_mode": {
    "name": "ipython",
    "version": 3
   },
   "file_extension": ".py",
   "mimetype": "text/x-python",
   "name": "python",
   "nbconvert_exporter": "python",
   "pygments_lexer": "ipython3",
   "version": "3.6.6"
  }
 },
 "nbformat": 4,
 "nbformat_minor": 2
}
