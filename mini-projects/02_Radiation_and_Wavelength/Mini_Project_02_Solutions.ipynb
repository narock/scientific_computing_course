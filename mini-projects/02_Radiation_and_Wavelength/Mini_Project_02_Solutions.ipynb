{
 "cells": [
  {
   "cell_type": "markdown",
   "metadata": {},
   "source": [
    "## Mini-Project 2 - Exploring radiation and wavelength "
   ]
  },
  {
   "cell_type": "markdown",
   "metadata": {},
   "source": [
    "A radiating body - such as our Sun - emits energy across the electromagnetic spectrum. The relationship between emissions and wavelength is given by"
   ]
  },
  {
   "cell_type": "markdown",
   "metadata": {},
   "source": [
    "![](http://narock.github.io/teaching/CST-411/planck_equation.png)"
   ]
  },
  {
   "cell_type": "markdown",
   "metadata": {},
   "source": [
    "where"
   ]
  },
  {
   "cell_type": "markdown",
   "metadata": {},
   "source": [
    "h = Planck's constant = 6.626 × 10<sup>-34</sup> m<sup>2</sup> kg / s\n",
    "\n",
    "k = Boltzmann's constant = 1.38 × 10<sup>-23</sup> m<sup>2</sup> kg s<sup>-2</sup> K<sup>-1</sup>\n",
    "\n",
    "c = speed of light = 299792458 m / s\n",
    "\n",
    "and T = Temperature of the radiating body in Kelvin"
   ]
  },
  {
   "cell_type": "markdown",
   "metadata": {},
   "source": [
    "B is expressed in W*m<sup>-2</sup>*nm<sup>-1</sup>*ster<sup>-1</sup>. In other words, Watts per square meter per nanometer per steradian. Essentially, B is telling us how much power (Watts) are released over an area for a given wavelength."
   ]
  },
  {
   "cell_type": "markdown",
   "metadata": {},
   "source": [
    "Let's use the Sun as our radiating body. The temperature of the Sun in is 5780 Kelvin and we can write B in Python as: "
   ]
  },
  {
   "cell_type": "code",
   "execution_count": 257,
   "metadata": {},
   "outputs": [],
   "source": [
    "import numpy as np\n",
    "\n",
    "# define our constants\n",
    "h = 6.626e-34 # Planck's constant\n",
    "k = 1.38e-23  # Boltzmann's constant\n",
    "c = 299792458 # speed of light\n",
    "T = 5780 # Sun's temperature in Kelvin\n",
    "\n",
    "# this equation was first proposed by Planck so let's name\n",
    "# our function planck\n",
    "def planck(wavelength):  \n",
    "    \n",
    "    numerator = 2.*h*(c)**2/wavelength**5\n",
    "    denominator = np.exp(h*c/(k*T*wavelength))-1.\n",
    "    # dividing to get the units to work out to be nm\n",
    "    b = (numerator / denominator) / 10**9 \n",
    "    \n",
    "    return b"
   ]
  },
  {
   "cell_type": "markdown",
   "metadata": {},
   "source": [
    "How much power does the Sun output at 570nm (yellow light)?"
   ]
  },
  {
   "cell_type": "code",
   "execution_count": 275,
   "metadata": {},
   "outputs": [
    {
     "name": "stdout",
     "output_type": "stream",
     "text": [
      "3593.3 W m-2 nm-1 ster-1\n"
     ]
    }
   ],
   "source": [
    "wavelength = 570 * 1e-9 # multiple by 1e-9 to convert to nanometers\n",
    "b = planck(wavelength)\n",
    "print( np.round(b,2), 'W m-2 nm-1 ster-1' )"
   ]
  },
  {
   "cell_type": "markdown",
   "metadata": {},
   "source": [
    "How much power does the Sun output at 450 nm (blue light)?"
   ]
  },
  {
   "cell_type": "code",
   "execution_count": 276,
   "metadata": {},
   "outputs": [
    {
     "name": "stdout",
     "output_type": "stream",
     "text": [
      "2172.73 W m-2 nm-1 ster-1\n"
     ]
    }
   ],
   "source": [
    "wavelength = 450 * 1e-9 # multiple by 1e-9 to convert to nanometers\n",
    "b = planck(wavelength)\n",
    "print( np.round(b,2), 'W m-2 nm-1 ster-1' )"
   ]
  },
  {
   "cell_type": "markdown",
   "metadata": {},
   "source": [
    "Let's see what B looks like across the entire electromagnetic spectrum for our Sun."
   ]
  },
  {
   "cell_type": "code",
   "execution_count": 248,
   "metadata": {},
   "outputs": [
    {
     "name": "stderr",
     "output_type": "stream",
     "text": [
      "/opt/conda/lib/python3.6/site-packages/ipykernel/__main__.py:14: RuntimeWarning: overflow encountered in exp\n"
     ]
    },
    {
     "data": {
      "text/plain": [
       "Text(0.5,1,'Electromagnetic emissions from our Sun as a function of wavelength')"
      ]
     },
     "execution_count": 248,
     "metadata": {},
     "output_type": "execute_result"
    },
    {
     "data": {
      "image/png": "[encoded data removed]",
      "text/plain": [
       "<Figure size 432x288 with 1 Axes>"
      ]
     },
     "metadata": {},
     "output_type": "display_data"
    }
   ],
   "source": [
    "import matplotlib.pyplot as plt\n",
    "\n",
    "# creating a list of wavelengths that we can pass into planck()\n",
    "wavelengths = np.arange(0.1,4000,1) # wavelengths in meters\n",
    "\n",
    "# defining an empty list to out the results of planck(wavelength)\n",
    "b_list = []\n",
    "\n",
    "# loop over our list passing the wavelengths to planck() one at a time\n",
    "for wavelength in wavelengths:\n",
    "    w = wavelength * 1e-9 # convert to nanometers\n",
    "    b = planck(w)\n",
    "    b_list.append(b)\n",
    "plt.grid()\n",
    "plt.plot(wavelengths, b_list)\n",
    "plt.xlabel(r'$\\lambda \\, [nm]$')\n",
    "plt.ylabel(r'$B_{\\lambda} \\, [\\mathrm{W \\, m^{-2} \\, nm^{-1} \\, ster^{-1}}]$')\n",
    "plt.title('Electromagnetic emissions from our Sun as a function of wavelength')"
   ]
  },
  {
   "cell_type": "markdown",
   "metadata": {},
   "source": [
    "1.) The above visualization shows us how the Sun emits across the electromagnetic spectrum. We can see that the bulk of the Sun's emissions occur between roughly 400 and 900 nanometers and decrease sharply before and after that. Where exactly is the peak of the emission? At what wavelength does the Sun emit the most? Find where the maximum of B occurs and use this to find the corresponding wavelength."
   ]
  },
  {
   "cell_type": "code",
   "execution_count": 230,
   "metadata": {},
   "outputs": [
    {
     "name": "stdout",
     "output_type": "stream",
     "text": [
      "Our Sun has emissions at many wavelengths\n",
      "However, the Sun has its strongest at 501.1 nanometers\n"
     ]
    }
   ],
   "source": [
    "m = max(b_list)\n",
    "i = b_list.index(m)\n",
    "print(\"Our Sun has emissions at many wavelengths\")\n",
    "print(\"However, the Sun has its strongest at\", wavelengths[i], 'nanometers')"
   ]
  },
  {
   "cell_type": "markdown",
   "metadata": {},
   "source": [
    "The visible portion of the electromagnetic spectrum is between 400 and 700nm. Let's highlight this in our visualization. The matplotlib function fill_between() will color in a specified area of our plot. An example is given here."
   ]
  },
  {
   "cell_type": "code",
   "execution_count": 243,
   "metadata": {},
   "outputs": [
    {
     "data": {
      "text/plain": [
       "<matplotlib.collections.PolyCollection at 0x7f2c08275128>"
      ]
     },
     "execution_count": 243,
     "metadata": {},
     "output_type": "execute_result"
    },
    {
     "data": {
      "image/png": "[encoded data removed]",
      "text/plain": [
       "<Figure size 432x288 with 1 Axes>"
      ]
     },
     "metadata": {},
     "output_type": "display_data"
    }
   ],
   "source": [
    "# create the plot as we normally would\n",
    "plt.grid()\n",
    "plt.plot(wavelengths, b_list)\n",
    "plt.xlabel(r'$\\lambda \\, [nm]$')\n",
    "plt.ylabel(r'$B_{\\lambda} \\, [\\mathrm{W \\, m^{-2} \\, nm^{-1} \\, ster^{-1}}]$')\n",
    "plt.title('Electromagnetic emissions from our Sun as a function of wavelength')\n",
    "\n",
    "# all of the x-values we want colored in\n",
    "# to specify the visible portion, we'll define a list ranging from 400 to 700\n",
    "x_colors = np.arange(400,700,1) # wavelengths in meters\n",
    "\n",
    "# this list will hold the y-values we want colored in\n",
    "y_colors = []\n",
    "\n",
    "# loop over the x values one at a time and compute the corresponding y-value\n",
    "for x in x_colors:\n",
    "    w = x * 1e-9 # convert to nanometers\n",
    "    b = planck(w)\n",
    "    y_colors.append(b)\n",
    "    \n",
    "# use our two lists to specify the x and y values to color\n",
    "plt.fill_between(x_colors, y_colors, facecolor='red')"
   ]
  },
  {
   "cell_type": "markdown",
   "metadata": {},
   "source": [
    "2.) Of all the emissions coming from the Sun, what fraction are in this visible portion of the spectrum (400nm to 700nm)? Let's answer this question step by step."
   ]
  },
  {
   "cell_type": "markdown",
   "metadata": {},
   "source": [
    "2a.) First, let's find the total power emitted in the visible portion of the spectrum. This is equal to the area under the curve from 400nm to 700nm. We can find this by integrating B from 400 to 700, i.e. integrating over the red shaded area in the plot above. Perform that integration here.\n",
    "\n",
    "<b>Keep in mind that the input to plank() is wavelength in meters.</b>"
   ]
  },
  {
   "cell_type": "code",
   "execution_count": 233,
   "metadata": {},
   "outputs": [
    {
     "name": "stdout",
     "output_type": "stream",
     "text": [
      "(0.007372205393527506, 8.184792170160001e-17)\n"
     ]
    }
   ],
   "source": [
    "import scipy.integrate \n",
    "\n",
    "visible = scipy.integrate.quad(planck, 400.*1e-9, 700.*1e-9)\n",
    "print(visible)"
   ]
  },
  {
   "cell_type": "markdown",
   "metadata": {},
   "source": [
    "2b.) Now, let's find the total power emitted over all wavelengths. To find this value, we integrate B from 0 to Infinity. However, Python runs into errors trying to integrate this particular equation to infinity. Let's approximate the solution by integrating from 0 to one hundred thousand nanometers. "
   ]
  },
  {
   "cell_type": "code",
   "execution_count": 234,
   "metadata": {},
   "outputs": [
    {
     "name": "stdout",
     "output_type": "stream",
     "text": [
      "(0.02010804669473905, 2.2803465142001674e-11)\n"
     ]
    },
    {
     "name": "stderr",
     "output_type": "stream",
     "text": [
      "/opt/conda/lib/python3.6/site-packages/ipykernel/__main__.py:14: RuntimeWarning: overflow encountered in exp\n"
     ]
    }
   ],
   "source": [
    "all = scipy.integrate.quad(planck, 0., 100000.*1e-9)\n",
    "print(all)"
   ]
  },
  {
   "cell_type": "markdown",
   "metadata": {},
   "source": [
    "2c.) Dividing our result from 3a. by our result from 3b. will give us the fraction of the emissions in the visible portion of the spectrum. What is that fraction?"
   ]
  },
  {
   "cell_type": "code",
   "execution_count": 235,
   "metadata": {},
   "outputs": [
    {
     "name": "stdout",
     "output_type": "stream",
     "text": [
      "The fraction of emissions in the visible portion of the spectrum is 0.37\n"
     ]
    }
   ],
   "source": [
    "r1 = np.round(visible[0]/all[0],2)\n",
    "print(\"The fraction of emissions in the visible portion of the spectrum is\", r1)"
   ]
  },
  {
   "cell_type": "markdown",
   "metadata": {},
   "source": [
    "3.) The ultraviolet portion of the spectrum ranges from 10nm to 400nm. The infrared porition of the spectrum ranges from 700nm to 10<sup>5</sup>nm. It's said that infrared, visible, and ultraviolet emissions account for 99% of the Sun's total emissions. Prove this.\n",
    "\n",
    "<b>Due to rounding errors and approximations your answer may not be exactly .99. That's ok and to be expected. However, if you get an answer that differs from 0.99 by more than 0.02 then you should double check your math</b>"
   ]
  },
  {
   "cell_type": "code",
   "execution_count": 236,
   "metadata": {},
   "outputs": [],
   "source": [
    "ultraviolet = scipy.integrate.quad(planck, 10.*1e-9, 400.*1e-9)\n",
    "infrared = scipy.integrate.quad(planck, 700.*1e-9, 1e5*1e-9)"
   ]
  },
  {
   "cell_type": "code",
   "execution_count": 237,
   "metadata": {},
   "outputs": [
    {
     "name": "stdout",
     "output_type": "stream",
     "text": [
      "Fraction of emissions in the ultraviolet portion of the spectrum is 0.12\n",
      "Fraction of emissions in the infrared portion of the spectrum is 0.51\n"
     ]
    }
   ],
   "source": [
    "r2 = np.round(ultraviolet[0]/all[0],2)\n",
    "r3 = np.round(infrared[0]/all[0],2)\n",
    "print(\"Fraction of emissions in the ultraviolet portion of the spectrum is\", r2)\n",
    "print(\"Fraction of emissions in the infrared portion of the spectrum is\", r3)"
   ]
  },
  {
   "cell_type": "code",
   "execution_count": 238,
   "metadata": {},
   "outputs": [
    {
     "name": "stdout",
     "output_type": "stream",
     "text": [
      "Infrared plus visible plus ultraviolet = 1.0\n"
     ]
    }
   ],
   "source": [
    "total = r1+r2+r3\n",
    "print(\"Infrared plus visible plus ultraviolet =\", total)"
   ]
  },
  {
   "cell_type": "markdown",
   "metadata": {},
   "source": [
    "4.) We proved this numerically. Now let's show it visually. Use the fill_between() example above to color in the infrared portion of the spectrum in red, the visible portion in green, and the ultraviolet portion in purple. (all on the same plot)"
   ]
  },
  {
   "cell_type": "code",
   "execution_count": 246,
   "metadata": {},
   "outputs": [
    {
     "data": {
      "text/plain": [
       "(0, 4000)"
      ]
     },
     "execution_count": 246,
     "metadata": {},
     "output_type": "execute_result"
    },
    {
     "data": {
      "image/png": "[encoded data removed]",
      "text/plain": [
       "<Figure size 432x288 with 1 Axes>"
      ]
     },
     "metadata": {},
     "output_type": "display_data"
    }
   ],
   "source": [
    "# create the plot as we normally would\n",
    "plt.grid()\n",
    "plt.plot(wavelengths, b_list)\n",
    "plt.xlabel(r'$\\lambda \\, [nm]$')\n",
    "plt.ylabel(r'$B_{\\lambda} \\, [\\mathrm{W \\, m^{-2} \\, nm^{-1} \\, ster^{-1}}]$')\n",
    "plt.title('Electromagnetic emissions from our Sun as a function of wavelength')\n",
    "\n",
    "# all of the x-values we want colored in\n",
    "i_colors_x = np.arange(700,1e5,1) # wavelengths in meters\n",
    "v_colors_x = np.arange(400,700,1) # wavelengths in meters\n",
    "u_colors_x = np.arange(10,400,1) # wavelengths in meters\n",
    "\n",
    "# this list will hold the y-values we want colored in\n",
    "i_colors_y = []\n",
    "v_colors_y = []\n",
    "u_colors_y = []\n",
    "\n",
    "# loop over the x values one at a time and compute the corresponding y-value\n",
    "for i in i_colors_x:\n",
    "    w = i * 1e-9 # convert to nanometers\n",
    "    b = planck(w)\n",
    "    i_colors_y.append(b)\n",
    "    \n",
    "for v in v_colors_x:\n",
    "    w = v * 1e-9 # convert to nanometers\n",
    "    b = planck(w)\n",
    "    v_colors_y.append(b)\n",
    "    \n",
    "for u in u_colors_x:\n",
    "    w = u * 1e-9 # convert to nanometers\n",
    "    b = planck(w)\n",
    "    u_colors_y.append(b)\n",
    "    \n",
    "# use our two lists to specify the x and y values to color\n",
    "plt.fill_between(i_colors_x, i_colors_y, facecolor='red')\n",
    "plt.fill_between(v_colors_x, v_colors_y, facecolor='green')\n",
    "plt.fill_between(u_colors_x, u_colors_y, facecolor='purple')\n",
    "plt.xlim(0,4000)"
   ]
  },
  {
   "cell_type": "markdown",
   "metadata": {},
   "source": [
    "5.) Let's look at what would happen if the Sun were a bit cooler. What would the above plot look like if the Sun's temperature were 4000K? Plot the 4000K curve on top of the 5780K curve. Use a legend to show which curve belongs to which temperature."
   ]
  },
  {
   "cell_type": "code",
   "execution_count": 262,
   "metadata": {},
   "outputs": [
    {
     "name": "stderr",
     "output_type": "stream",
     "text": [
      "/opt/conda/lib/python3.6/site-packages/ipykernel/__main__.py:14: RuntimeWarning: overflow encountered in exp\n"
     ]
    },
    {
     "data": {
      "text/plain": [
       "<matplotlib.legend.Legend at 0x7f2c07d426d8>"
      ]
     },
     "execution_count": 262,
     "metadata": {},
     "output_type": "execute_result"
    },
    {
     "data": {
      "image/png": "[encoded data removed]",
      "text/plain": [
       "<Figure size 432x288 with 1 Axes>"
      ]
     },
     "metadata": {},
     "output_type": "display_data"
    }
   ],
   "source": [
    "T = 4000\n",
    "b_list2 = []\n",
    "for wavelength in wavelengths:\n",
    "    w = wavelength * 1e-9 # convert to nanometers\n",
    "    b = planck(w)\n",
    "    b_list2.append(b)\n",
    "plt.grid()\n",
    "plt.plot(wavelengths, b_list)\n",
    "plt.plot(wavelengths, b_list2)\n",
    "plt.xlabel(r'$\\lambda \\, [nm]$')\n",
    "plt.ylabel(r'$B_{\\lambda} \\, [\\mathrm{W \\, m^{-2} \\, nm^{-1} \\, ster^{-1}}]$')\n",
    "plt.title('Electromagnetic emissions from our Sun as a function of wavelength')\n",
    "plt.legend(['T=5780','T=4000'])"
   ]
  },
  {
   "cell_type": "markdown",
   "metadata": {},
   "source": [
    "6.) Where is the peak of the emissions when T=4000?"
   ]
  },
  {
   "cell_type": "code",
   "execution_count": 263,
   "metadata": {},
   "outputs": [
    {
     "name": "stdout",
     "output_type": "stream",
     "text": [
      "Our Sun's strongest emissions are at 502 nm\n",
      "If the Sun's temperature were 4780K the peak would be at 725.1 nm\n"
     ]
    }
   ],
   "source": [
    "m = max(b_list2)\n",
    "i = b_list2.index(m)\n",
    "w = np.round( wavelengths[i], 2 )\n",
    "print(\"Our Sun's strongest emissions are at 502 nm\")\n",
    "print(\"If the Sun's temperature were 4780K the peak would be at\", w, 'nm')"
   ]
  },
  {
   "cell_type": "markdown",
   "metadata": {},
   "source": [
    "7.) What would the percentage of emissions in the visible portion be now with the temperature at 4000K?"
   ]
  },
  {
   "cell_type": "code",
   "execution_count": 264,
   "metadata": {},
   "outputs": [
    {
     "name": "stdout",
     "output_type": "stream",
     "text": [
      "0.20793734582536422\n"
     ]
    },
    {
     "name": "stderr",
     "output_type": "stream",
     "text": [
      "/opt/conda/lib/python3.6/site-packages/ipykernel/__main__.py:14: RuntimeWarning: overflow encountered in exp\n"
     ]
    }
   ],
   "source": [
    "visible = scipy.integrate.quad(planck, 400.*1e-9, 700.*1e-9)\n",
    "all = scipy.integrate.quad(planck, 0., 100000.*1e-9)\n",
    "print(visible[0]/all[0])"
   ]
  },
  {
   "cell_type": "markdown",
   "metadata": {},
   "source": [
    "At 5780K we have 37% of the total emissions in the visible portion of the spectrum. At 4000k it drops to 21%."
   ]
  },
  {
   "cell_type": "code",
   "execution_count": null,
   "metadata": {},
   "outputs": [],
   "source": []
  }
 ],
 "metadata": {
  "kernelspec": {
   "display_name": "Python [default]",
   "language": "python",
   "name": "python3"
  },
  "language_info": {
   "codemirror_mode": {
    "name": "ipython",
    "version": 3
   },
   "file_extension": ".py",
   "mimetype": "text/x-python",
   "name": "python",
   "nbconvert_exporter": "python",
   "pygments_lexer": "ipython3",
   "version": "3.6.6"
  }
 },
 "nbformat": 4,
 "nbformat_minor": 2
}
