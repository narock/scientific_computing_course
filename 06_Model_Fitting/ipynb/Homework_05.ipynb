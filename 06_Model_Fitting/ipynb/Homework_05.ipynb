{
 "cells": [
  {
   "cell_type": "markdown",
   "metadata": {},
   "source": [
    "# Homework 5 - 30 points"
   ]
  },
  {
   "cell_type": "markdown",
   "metadata": {},
   "source": [
    "The next cell creates two sample datasets we'll use throughout this homework."
   ]
  },
  {
   "cell_type": "code",
   "execution_count": 91,
   "metadata": {},
   "outputs": [
    {
     "data": {
      "text/plain": [
       "<matplotlib.collections.PathCollection at 0x7fcb07c319e8>"
      ]
     },
     "execution_count": 91,
     "metadata": {},
     "output_type": "execute_result"
    },
    {
     "data": {
      "image/png": "[encoded data removed]",
      "text/plain": [
       "<Figure size 432x288 with 1 Axes>"
      ]
     },
     "metadata": {},
     "output_type": "display_data"
    }
   ],
   "source": [
    "import math\n",
    "import numpy as np\n",
    "import matplotlib.pyplot as plt\n",
    "import scipy.optimize\n",
    "\n",
    "# Seed the random number generator for reproducibility\n",
    "np.random.seed(0)\n",
    "\n",
    "# Generate data with noise\n",
    "x = np.linspace(-5, 5, num=50)\n",
    "sample1 = 2.9 * np.sin(1.5 * x_data) + np.random.normal(size=50)\n",
    "sample2 = 1.4 * np.sin(0.9 * x_data) + np.random.normal(size=50)\n",
    "\n",
    "# Visualize our data\n",
    "plt.scatter(x,sample1, color='blue')\n",
    "plt.scatter(x,sample2, color='orange')"
   ]
  },
  {
   "cell_type": "markdown",
   "metadata": {},
   "source": [
    "Let's assume these datasets represent observations we've made of two physical phenomena. We can see from the visualization that there appears to be a sinusoidal trend to both datasets. What we'd like to do is find the best sine wave model for each dataset.\n",
    "\n",
    "We can represent a generic sine wave as: y = a * sin(bx)  where a and b are parameters that determine the height and width of the sine wave. The sine function can be foun in numpy as np.sin()\n",
    "\n",
    "Use scipy.optimize.curve_fit() on both sample1 and sample2 to find the best sine wave model for each. "
   ]
  },
  {
   "cell_type": "markdown",
   "metadata": {},
   "source": [
    "#### 1.) Set up the fitting and print out the optimal values of a and b for sample 1 (4 points)"
   ]
  },
  {
   "cell_type": "code",
   "execution_count": 101,
   "metadata": {},
   "outputs": [],
   "source": [
    "# code here"
   ]
  },
  {
   "cell_type": "markdown",
   "metadata": {},
   "source": [
    "#### 2.) Set up the fitting and print out the optimal values of a and b for sample 2 (3 points)"
   ]
  },
  {
   "cell_type": "code",
   "execution_count": 102,
   "metadata": {},
   "outputs": [],
   "source": [
    "# code here"
   ]
  },
  {
   "cell_type": "markdown",
   "metadata": {},
   "source": [
    "#### 3.) Use the values of a and b you obtained in 1.) to plot the model fit on top of the sample1 data points. (3 points)"
   ]
  },
  {
   "cell_type": "code",
   "execution_count": 103,
   "metadata": {},
   "outputs": [],
   "source": [
    "# code here"
   ]
  },
  {
   "cell_type": "markdown",
   "metadata": {},
   "source": [
    "#### 4.) Use the values of a and b you obtained in 2.) to plot the model fit on top of the sample2 data points. (3 points)"
   ]
  },
  {
   "cell_type": "code",
   "execution_count": 104,
   "metadata": {},
   "outputs": [],
   "source": [
    "# code here"
   ]
  },
  {
   "cell_type": "markdown",
   "metadata": {},
   "source": [
    "scipy.optimize.curve_fit() returns two values - the optimal values to use for your function's parameters and the covariance matrix. The covariance matrix comes in handy to determine the uncertainty of our optimal value predictions. The standard deviation of the predicted parameters can be found using: np.sqrt(np.diag(covariance_matrix)) where np refers to the numpy library"
   ]
  },
  {
   "cell_type": "markdown",
   "metadata": {},
   "source": [
    "#### 5.) Compute the uncertainty in a and b for both the sample1 fit and the sample2 fit (2 points)"
   ]
  },
  {
   "cell_type": "code",
   "execution_count": 105,
   "metadata": {},
   "outputs": [],
   "source": [
    "# code here"
   ]
  },
  {
   "cell_type": "code",
   "execution_count": 106,
   "metadata": {},
   "outputs": [],
   "source": [
    "# code here"
   ]
  },
  {
   "cell_type": "markdown",
   "metadata": {},
   "source": [
    "#### 6.) This question pertains only to sample1. Make a scatter plot of the sample1 data points, color it blue. On top of this scatter plot (same panel) plot the model fit for sample1, color it blue. On top of this plot the model fit minus the uncertainty, color it red. In other words, a-error and b-error. On top of all of this plot the model fit plus the uncertainty (a+error and b+error), color it orange. In the end, you should have a scatter plot and 3 line plots. Our model parameters, a and b, have some uncertainty to them. What we're showing here is the predicted best model fit and the upper and lower limits to that fit. Finally, set the x-range of your plot to be [0,3] (10 points)"
   ]
  },
  {
   "cell_type": "code",
   "execution_count": 107,
   "metadata": {},
   "outputs": [],
   "source": [
    "# code here"
   ]
  },
  {
   "cell_type": "markdown",
   "metadata": {},
   "source": [
    "#### 7.) Is the model fit to sample1 \"better\" or \"worse\" than the model fit to sample2? How can you tell? What factors might account for one model fit being \"better\" than another? (5 points)"
   ]
  },
  {
   "cell_type": "code",
   "execution_count": null,
   "metadata": {},
   "outputs": [],
   "source": []
  }
 ],
 "metadata": {
  "kernelspec": {
   "display_name": "Python [default]",
   "language": "python",
   "name": "python3"
  },
  "language_info": {
   "codemirror_mode": {
    "name": "ipython",
    "version": 3
   },
   "file_extension": ".py",
   "mimetype": "text/x-python",
   "name": "python",
   "nbconvert_exporter": "python",
   "pygments_lexer": "ipython3",
   "version": "3.6.6"
  }
 },
 "nbformat": 4,
 "nbformat_minor": 2
}
