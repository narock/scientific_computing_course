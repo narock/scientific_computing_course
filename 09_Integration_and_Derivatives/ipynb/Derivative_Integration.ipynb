{
 "cells": [
  {
   "cell_type": "markdown",
   "metadata": {},
   "source": [
    "The derivative of x<sup>2</sup> evaluated at 0, 1, and 2"
   ]
  },
  {
   "cell_type": "code",
   "execution_count": 2,
   "metadata": {},
   "outputs": [
    {
     "name": "stdout",
     "output_type": "stream",
     "text": [
      "We are taking the derivative of x squared at [0 1 2]\n",
      "The derivative at [0 1 2] is [0. 2. 4.]\n"
     ]
    }
   ],
   "source": [
    "import numpy as np\n",
    "import scipy.misc\n",
    "\n",
    "def f(x):\n",
    "    return x**2\n",
    "\n",
    "x = np.arange(0,3, 1)\n",
    "f1 = scipy.misc.derivative(f, x, n=1) \n",
    "print(\"We are taking the derivative of x squared at\", x)\n",
    "print(\"The derivative at\", x, \"is\", f1)"
   ]
  },
  {
   "cell_type": "markdown",
   "metadata": {},
   "source": [
    "The second derivative of x<sup>2</sup> evaluated at 0, 1, and 2"
   ]
  },
  {
   "cell_type": "code",
   "execution_count": 111,
   "metadata": {},
   "outputs": [
    {
     "name": "stdout",
     "output_type": "stream",
     "text": [
      "We are taking the second derivative of x squared at [0 1 2]\n",
      "The second derivative at [0 1 2] is [2. 2. 2.]\n"
     ]
    }
   ],
   "source": [
    "f2 = scipy.misc.derivative(f, x, n=2) \n",
    "print(\"We are taking the second derivative of x squared at\", x)\n",
    "print(\"The second derivative at\", x, \"is\", f2)"
   ]
  },
  {
   "cell_type": "markdown",
   "metadata": {},
   "source": [
    "The derivative of x<sup>3</sup> evaluated at 1. The exact answer is 3. Without the dx parameter being specified, python's approximation is not so good"
   ]
  },
  {
   "cell_type": "code",
   "execution_count": 119,
   "metadata": {},
   "outputs": [
    {
     "name": "stdout",
     "output_type": "stream",
     "text": [
      "4.0\n"
     ]
    }
   ],
   "source": [
    "def f3(x):\n",
    "    return x**3\n",
    "\n",
    "f = scipy.misc.derivative(f3, 1, n=1)\n",
    "print(f)"
   ]
  },
  {
   "cell_type": "markdown",
   "metadata": {},
   "source": [
    "With the dx parameter, python's approximation is much better."
   ]
  },
  {
   "cell_type": "code",
   "execution_count": 120,
   "metadata": {},
   "outputs": [
    {
     "name": "stdout",
     "output_type": "stream",
     "text": [
      "3.0000009999998634\n"
     ]
    }
   ],
   "source": [
    "def f3(x):\n",
    "    return x**3\n",
    "\n",
    "f = scipy.misc.derivative(f3, 1, n=1, dx = 0.001)\n",
    "print(f)"
   ]
  },
  {
   "cell_type": "markdown",
   "metadata": {},
   "source": [
    "The same derivative with a smaller value of dx. It does change the answer, but not by much. With rounding, we'd also get 3."
   ]
  },
  {
   "cell_type": "code",
   "execution_count": 123,
   "metadata": {},
   "outputs": [
    {
     "name": "stdout",
     "output_type": "stream",
     "text": [
      "2.9999999999197335\n"
     ]
    }
   ],
   "source": [
    "def f3(x):\n",
    "    return x**3\n",
    "\n",
    "f = scipy.misc.derivative(f3, 1, n=1, dx = 1e-6)\n",
    "print(f)"
   ]
  },
  {
   "cell_type": "markdown",
   "metadata": {},
   "source": [
    "Taking a derivative of a function of two variables. The input value of 1 is for x. We specify the value to use for y by using the args parameter."
   ]
  },
  {
   "cell_type": "code",
   "execution_count": 127,
   "metadata": {},
   "outputs": [
    {
     "name": "stdout",
     "output_type": "stream",
     "text": [
      "2.0000000020559128\n"
     ]
    }
   ],
   "source": [
    "def fxy(x, y):\n",
    "    return(x**2 + y**3)\n",
    "\n",
    "y = [4]\n",
    "f1 = scipy.misc.derivative(fxy, 1, n=1, dx=1e-6, args = y)\n",
    "print(f1)"
   ]
  },
  {
   "cell_type": "markdown",
   "metadata": {},
   "source": [
    "If we want to differentiate with respect to y, then we can reverse the function variables."
   ]
  },
  {
   "cell_type": "code",
   "execution_count": 132,
   "metadata": {},
   "outputs": [
    {
     "name": "stdout",
     "output_type": "stream",
     "text": [
      "2.9999999999752447\n"
     ]
    }
   ],
   "source": [
    "def fxy(y, x):\n",
    "    return(x**2 + y**3)\n",
    "\n",
    "x = [1]\n",
    "f1 = scipy.misc.derivative(fxy, 1, n=1, dx=1e-6, args = x)\n",
    "print(f1)"
   ]
  },
  {
   "cell_type": "markdown",
   "metadata": {},
   "source": [
    "Example of how integration works using scipy.integrate.quad"
   ]
  },
  {
   "cell_type": "code",
   "execution_count": 20,
   "metadata": {},
   "outputs": [
    {
     "name": "stdout",
     "output_type": "stream",
     "text": [
      "(4.0, 4.440892098500626e-14)\n"
     ]
    }
   ],
   "source": [
    "import scipy.integrate \n",
    "def f(x):\n",
    "    return 2.*x\n",
    "\n",
    "I = scipy.integrate.quad(f, 0, 2)\n",
    "print(I)"
   ]
  },
  {
   "cell_type": "markdown",
   "metadata": {},
   "source": [
    "Integration from 0 to infinity"
   ]
  },
  {
   "cell_type": "code",
   "execution_count": 133,
   "metadata": {},
   "outputs": [
    {
     "name": "stdout",
     "output_type": "stream",
     "text": [
      "(0.5000000000000002, 1.4875911973447031e-08)\n"
     ]
    }
   ],
   "source": [
    "def f(x):\n",
    "    return np.exp(-x)*np.sin(x)\n",
    "\n",
    "I = scipy.integrate.quad(f, 0, float('inf'))\n",
    "print(I)"
   ]
  },
  {
   "cell_type": "markdown",
   "metadata": {},
   "source": [
    "Double integration example. This function has two variables - x and t. We integrate x over 0 to infinity (the first list) and t over 1 to infinity (the second list)"
   ]
  },
  {
   "cell_type": "code",
   "execution_count": 136,
   "metadata": {},
   "outputs": [
    {
     "name": "stdout",
     "output_type": "stream",
     "text": [
      "(0.20000000000002294, 1.2239614263187945e-08)\n"
     ]
    }
   ],
   "source": [
    "N = 5\n",
    "def f(x,t):\n",
    "    return np.exp(-x*t) / t**N\n",
    "\n",
    "I = scipy.integrate.nquad(f, [[0, np.inf],[1, np.inf]])\n",
    "print(I)"
   ]
  },
  {
   "cell_type": "markdown",
   "metadata": {},
   "source": [
    "The exact solution is 1/N. For N=5 this is"
   ]
  },
  {
   "cell_type": "code",
   "execution_count": 137,
   "metadata": {},
   "outputs": [
    {
     "name": "stdout",
     "output_type": "stream",
     "text": [
      "0.2\n"
     ]
    }
   ],
   "source": [
    "print(1./N)"
   ]
  },
  {
   "cell_type": "markdown",
   "metadata": {},
   "source": [
    "Acceleration is the first derivative of velocity. To find the maximum acceleration - take the derivative of the function, evaluate at some test points (here we use 0 to 10), and find the maximum. We use visualization to confirm that the acceleration function only has one maximum"
   ]
  },
  {
   "cell_type": "code",
   "execution_count": 8,
   "metadata": {},
   "outputs": [
    {
     "data": {
      "text/plain": [
       "Text(0.5,0,'Time')"
      ]
     },
     "execution_count": 8,
     "metadata": {},
     "output_type": "execute_result"
    },
    {
     "data": {
      "image/png": "[encoded data removed]",
      "text/plain": [
       "<Figure size 432x288 with 1 Axes>"
      ]
     },
     "metadata": {},
     "output_type": "display_data"
    }
   ],
   "source": [
    "import matplotlib.pyplot as plt\n",
    "\n",
    "def f(t):\n",
    "    return -t**3 + 6*t**2 + 2*t\n",
    "\n",
    "# the nature of this function's derivative, -3t**2 first term, tells us\n",
    "# that it's an upside down quadratic. The maximum will occur in the first\n",
    "# few points. But, let's visualize it out to x=100 to confirm this\n",
    "\n",
    "# visualize the acceleration from 0 to 100\n",
    "x = np.arange(0, 100, 1)\n",
    "f1 = scipy.misc.derivative(f, x, n=1) \n",
    "f1 = f1.tolist()\n",
    "plt.plot( x, f1 )\n",
    "plt.ylabel(\"Acceleration\")\n",
    "plt.xlabel(\"Time\")"
   ]
  },
  {
   "cell_type": "code",
   "execution_count": 11,
   "metadata": {},
   "outputs": [
    {
     "name": "stdout",
     "output_type": "stream",
     "text": [
      "The maximum acceleration occurs at t = 2\n",
      "The maximum acceleration is 13.0\n"
     ]
    }
   ],
   "source": [
    "# where is the max?\n",
    "i = f1.index(max(f1))\n",
    "print(\"The maximum acceleration occurs at t =\", x[i])\n",
    "print(\"The maximum acceleration is\", f1[i])"
   ]
  }
 ],
 "metadata": {
  "kernelspec": {
   "display_name": "Python [default]",
   "language": "python",
   "name": "python3"
  },
  "language_info": {
   "codemirror_mode": {
    "name": "ipython",
    "version": 3
   },
   "file_extension": ".py",
   "mimetype": "text/x-python",
   "name": "python",
   "nbconvert_exporter": "python",
   "pygments_lexer": "ipython3",
   "version": "3.6.6"
  }
 },
 "nbformat": 4,
 "nbformat_minor": 2
}
