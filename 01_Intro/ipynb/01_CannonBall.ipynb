{
 "cells": [
  {
   "cell_type": "markdown",
   "metadata": {},
   "source": [
    "Import the Python math library. We'll need the sin and cos functions"
   ]
  },
  {
   "cell_type": "code",
   "execution_count": 26,
   "metadata": {},
   "outputs": [],
   "source": [
    "import math"
   ]
  },
  {
   "cell_type": "markdown",
   "metadata": {},
   "source": [
    "Ask the user to enter launch angle, initial velocity, initial height, and time interval."
   ]
  },
  {
   "cell_type": "code",
   "execution_count": 18,
   "metadata": {},
   "outputs": [
    {
     "name": "stdin",
     "output_type": "stream",
     "text": [
      "Enter the launch angle (in degrees):  40\n"
     ]
    }
   ],
   "source": [
    "angle = float(input(\"Enter the launch angle (in degrees): \"))"
   ]
  },
  {
   "cell_type": "code",
   "execution_count": 19,
   "metadata": {},
   "outputs": [
    {
     "name": "stdin",
     "output_type": "stream",
     "text": [
      "Enter the initial velocity (in meters/s) 20\n"
     ]
    }
   ],
   "source": [
    "vel = float(input(\"Enter the initial velocity (in meters/s)\"))"
   ]
  },
  {
   "cell_type": "code",
   "execution_count": 20,
   "metadata": {},
   "outputs": [
    {
     "name": "stdin",
     "output_type": "stream",
     "text": [
      "Enter the initial height (in meters):  2\n"
     ]
    }
   ],
   "source": [
    "h0 = float(input(\"Enter the initial height (in meters): \"))"
   ]
  },
  {
   "cell_type": "code",
   "execution_count": 21,
   "metadata": {},
   "outputs": [
    {
     "name": "stdin",
     "output_type": "stream",
     "text": [
      "Enter the time interval between position calculations:  0.1\n"
     ]
    }
   ],
   "source": [
    "time = float(input(\"Enter the time interval between position calculations: \"))"
   ]
  },
  {
   "cell_type": "markdown",
   "metadata": {},
   "source": [
    "The initial position of the cannon ball is 0 in the x direction and h0 in the y direction."
   ]
  },
  {
   "cell_type": "code",
   "execution_count": 22,
   "metadata": {},
   "outputs": [],
   "source": [
    "xpos = 0.0\n",
    "ypos = h0"
   ]
  },
  {
   "cell_type": "markdown",
   "metadata": {},
   "source": [
    "Convert the angle from degrees to radians. Use Python's math library to compute the x and y velocities."
   ]
  },
  {
   "cell_type": "code",
   "execution_count": 28,
   "metadata": {},
   "outputs": [],
   "source": [
    "theta = math.pi * angle / 180.0\n",
    "xvel = vel * math.cos(theta)\n",
    "yvel = vel * math.sin(theta)"
   ]
  },
  {
   "cell_type": "markdown",
   "metadata": {},
   "source": [
    "Use a while loop to continually update the positions and y-velocity until the cannon ball hits the ground"
   ]
  },
  {
   "cell_type": "code",
   "execution_count": 34,
   "metadata": {},
   "outputs": [],
   "source": [
    "while ypos > 0:\n",
    "    xpos = xpos + time * xvel\n",
    "    yvel1 = yvel - time * 9.8\n",
    "    ypos = ypos + time * (yvel + yvel1)/2.0\n",
    "    yvel = yvel1\n"
   ]
  },
  {
   "cell_type": "markdown",
   "metadata": {},
   "source": [
    "Two print statements demonstrated unformatted and formatted output"
   ]
  },
  {
   "cell_type": "code",
   "execution_count": 30,
   "metadata": {},
   "outputs": [
    {
     "name": "stdout",
     "output_type": "stream",
     "text": [
      "Distance traveled: 42.89848881466279 meters\n"
     ]
    }
   ],
   "source": [
    "print(\"Distance traveled:\", xpos, \"meters\")"
   ]
  },
  {
   "cell_type": "code",
   "execution_count": 36,
   "metadata": {},
   "outputs": [
    {
     "name": "stdout",
     "output_type": "stream",
     "text": [
      "Distance traveled: 42.9 meters.\n"
     ]
    }
   ],
   "source": [
    "print (\"Distance traveled: %0.1f meters.\" % (xpos))"
   ]
  },
  {
   "cell_type": "code",
   "execution_count": null,
   "metadata": {},
   "outputs": [],
   "source": []
  }
 ],
 "metadata": {
  "kernelspec": {
   "display_name": "Python [default]",
   "language": "python",
   "name": "python3"
  },
  "language_info": {
   "codemirror_mode": {
    "name": "ipython",
    "version": 3
   },
   "file_extension": ".py",
   "mimetype": "text/x-python",
   "name": "python",
   "nbconvert_exporter": "python",
   "pygments_lexer": "ipython3",
   "version": "3.6.6"
  }
 },
 "nbformat": 4,
 "nbformat_minor": 2
}
