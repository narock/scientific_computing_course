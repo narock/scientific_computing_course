{
 "cells": [
  {
   "cell_type": "markdown",
   "metadata": {},
   "source": [
    "### Homework 1 - Markdown and extensions to the cannon ball program"
   ]
  },
  {
   "cell_type": "markdown",
   "metadata": {},
   "source": [
    "#### 1.) We need to launch our cannon ball a distance of 70 meters. We'll be launching from an angle of 40 degrees and an initial height of 1.5 meters. Our time interval will be 0.1 seconds. However, we don't know what initial velocity will get us to our desired distance of 70 meters. We don't want to randomly try values. Instead, we'd like to ask Python to start at 10 m/s and increment by 0.25 m/s until it finds an initial velocity that will get the cannon ball to the desired distance. Modify the program to do this. Print out the initial velocity value we should use (10 points)"
   ]
  },
  {
   "cell_type": "markdown",
   "metadata": {},
   "source": [
    "#### 2.) We're going to use Markdown to document our notebook as well as add helpful figures for future users. There is a figure at http://narock.github.io/teaching/CST-411/cannonball_angles.png which shows how the velocity is broken down into x and y components. Use Markdown to import that image here. (2 points)\n",
    "\n",
    "![alt text](http://narock.github.io/teaching/CST-411/cannonball_angles.png \"Image 10.1 from Zelle\")\n",
    "\n"
   ]
  },
  {
   "cell_type": "markdown",
   "metadata": {},
   "source": [
    "#### 3.) This example problem came from Zelle's Python Programming book. We should give credit to Zelle. Let's add a link to the book on Amazon. The link to the book is https://www.amazon.com/Python-Programming-Introduction-Computer-Science/dp/1590282752/ref=sr_1_1?ie=UTF8&qid=1534777490&sr=8-1&keywords=zelle+python+programming&dpID=41zZ8LdlRJL&preST=_SX258_BO1,204,203,200_QL70_&dpSrc=srch but that's rather long. \n",
    "\n",
    "#### Rewrite this as an in-line link that says \"The cannon ball problem comes from Zelle's book Python Programming\" where Python Programming is a clickable link to the above Amazon page. (2 points)\n",
    "\n",
    "The cannon ball problem comes from Zelle's book [Python Programming](https://www.amazon.com/Python-Programming-Introduction-Computer-Science/dp/1590282752/ref=sr_1_1?ie=UTF8&qid=1534777490&sr=8-1&keywords=zelle+python+programming&dpID=41zZ8LdlRJL&preST=_SX258_BO1,204,203,200_QL70_&dpSrc=srch)\n"
   ]
  },
  {
   "cell_type": "code",
   "execution_count": 12,
   "metadata": {},
   "outputs": [],
   "source": [
    "import math\n",
    "\n",
    "# we could continue to use input statements, but since we know\n",
    "# the initial conditions we'll just type them here to save \n",
    "# ourselves some typing each time the program runs\n",
    "angle = 40.0 # 40 degrees\n",
    "h0 = 1.5 # 1.5 meters\n",
    "time = 0.1 # tenth of a second"
   ]
  },
  {
   "cell_type": "code",
   "execution_count": 30,
   "metadata": {},
   "outputs": [
    {
     "name": "stdout",
     "output_type": "stream",
     "text": [
      "  Initial velocity of 10.00 m/s go us to 12.3 m\n",
      "  Initial velocity of 10.25 m/s go us to 12.6 m\n",
      "  Initial velocity of 10.50 m/s go us to 12.9 m\n",
      "  Initial velocity of 10.75 m/s go us to 14.0 m\n",
      "  Initial velocity of 11.00 m/s go us to 14.3 m\n",
      "  Initial velocity of 11.25 m/s go us to 14.7 m\n",
      "  Initial velocity of 11.50 m/s go us to 15.0 m\n",
      "  Initial velocity of 11.75 m/s go us to 16.2 m\n",
      "  Initial velocity of 12.00 m/s go us to 16.5 m\n",
      "  Initial velocity of 12.25 m/s go us to 16.9 m\n",
      "  Initial velocity of 12.50 m/s go us to 18.2 m\n",
      "  Initial velocity of 12.75 m/s go us to 18.6 m\n",
      "  Initial velocity of 13.00 m/s go us to 18.9 m\n",
      "  Initial velocity of 13.25 m/s go us to 19.3 m\n",
      "  Initial velocity of 13.50 m/s go us to 20.7 m\n",
      "  Initial velocity of 13.75 m/s go us to 21.1 m\n",
      "  Initial velocity of 14.00 m/s go us to 21.4 m\n",
      "  Initial velocity of 14.25 m/s go us to 22.9 m\n",
      "  Initial velocity of 14.50 m/s go us to 23.3 m\n",
      "  Initial velocity of 14.75 m/s go us to 23.7 m\n",
      "  Initial velocity of 15.00 m/s go us to 25.3 m\n",
      "  Initial velocity of 15.25 m/s go us to 25.7 m\n",
      "  Initial velocity of 15.50 m/s go us to 26.1 m\n",
      "  Initial velocity of 15.75 m/s go us to 27.7 m\n",
      "  Initial velocity of 16.00 m/s go us to 28.2 m\n",
      "  Initial velocity of 16.25 m/s go us to 28.6 m\n",
      "  Initial velocity of 16.50 m/s go us to 29.1 m\n",
      "  Initial velocity of 16.75 m/s go us to 30.8 m\n",
      "  Initial velocity of 17.00 m/s go us to 31.3 m\n",
      "  Initial velocity of 17.25 m/s go us to 31.7 m\n",
      "  Initial velocity of 17.50 m/s go us to 33.5 m\n",
      "  Initial velocity of 17.75 m/s go us to 34.0 m\n",
      "  Initial velocity of 18.00 m/s go us to 34.5 m\n",
      "  Initial velocity of 18.25 m/s go us to 36.3 m\n",
      "  Initial velocity of 18.50 m/s go us to 36.8 m\n",
      "  Initial velocity of 18.75 m/s go us to 37.3 m\n",
      "  Initial velocity of 19.00 m/s go us to 39.3 m\n",
      "  Initial velocity of 19.25 m/s go us to 39.8 m\n",
      "  Initial velocity of 19.50 m/s go us to 40.3 m\n",
      "  Initial velocity of 19.75 m/s go us to 42.4 m\n",
      "  Initial velocity of 20.00 m/s go us to 42.9 m\n",
      "  Initial velocity of 20.25 m/s go us to 43.4 m\n",
      "  Initial velocity of 20.50 m/s go us to 44.0 m\n",
      "  Initial velocity of 20.75 m/s go us to 46.1 m\n",
      "  Initial velocity of 21.00 m/s go us to 46.7 m\n",
      "  Initial velocity of 21.25 m/s go us to 47.2 m\n",
      "  Initial velocity of 21.50 m/s go us to 49.4 m\n",
      "  Initial velocity of 21.75 m/s go us to 50.0 m\n",
      "  Initial velocity of 22.00 m/s go us to 50.6 m\n",
      "  Initial velocity of 22.25 m/s go us to 52.8 m\n",
      "  Initial velocity of 22.50 m/s go us to 53.4 m\n",
      "  Initial velocity of 22.75 m/s go us to 54.0 m\n",
      "  Initial velocity of 23.00 m/s go us to 56.4 m\n",
      "  Initial velocity of 23.25 m/s go us to 57.0 m\n",
      "  Initial velocity of 23.50 m/s go us to 57.6 m\n",
      "  Initial velocity of 23.75 m/s go us to 60.0 m\n",
      "  Initial velocity of 24.00 m/s go us to 60.7 m\n",
      "  Initial velocity of 24.25 m/s go us to 61.3 m\n",
      "  Initial velocity of 24.50 m/s go us to 63.8 m\n",
      "  Initial velocity of 24.75 m/s go us to 64.5 m\n",
      "  Initial velocity of 25.00 m/s go us to 65.1 m\n",
      "  Initial velocity of 25.25 m/s go us to 67.7 m\n",
      "  Initial velocity of 25.50 m/s go us to 68.4 m\n",
      "  Initial velocity of 25.75 m/s go us to 69.0 m\n",
      "  Initial velocity of 26.00 m/s go us to 69.7 m\n",
      "  Initial velocity of 26.25 m/s go us to 72.4 m\n"
     ]
    }
   ],
   "source": [
    "# set our starting velocity value\n",
    "vel = 10.0 # 10 m/s\n",
    "\n",
    "# also need to set an initial xpos to \n",
    "# initialize our loop\n",
    "xpos = 0.0\n",
    "ypos = h0\n",
    "\n",
    "# loop until we reach our desired distance\n",
    "while xpos < 70.0:\n",
    "    \n",
    "    # reset x anx y pos\n",
    "    # this is redundant for the first time through\n",
    "    # but nessecary for each time after that\n",
    "    xpos = 0.0\n",
    "    ypos = h0\n",
    "    \n",
    "    # Convert the angle from degrees to radians. \n",
    "    # Use Python's math library to compute the x and y velocities.\n",
    "    theta = math.pi * angle / 180.0\n",
    "    xvel = vel * math.cos(theta)\n",
    "    yvel = vel * math.sin(theta)\n",
    "\n",
    "    # Use a while loop to continually update the positions \n",
    "    # and y-velocity until the cannon ball hits the ground\n",
    "    while ypos > 0:\n",
    "        xpos = xpos + time * xvel\n",
    "        yvel1 = yvel - time * 9.8\n",
    "        ypos = ypos + time * (yvel + yvel1)/2.0\n",
    "        yvel = yvel1\n",
    "    \n",
    "    print(\"  Initial velocity of %0.2f m/s go us to %0.1f m\" %(vel, xpos) )\n",
    "\n",
    "    # increment our velocity by 1 m/s\n",
    "    # this is short-hand Python for vel = vel + 1\n",
    "    vel += 0.25"
   ]
  },
  {
   "cell_type": "markdown",
   "metadata": {},
   "source": [
    "#### Notice that we've actually overshot our desired landing distance by 2.4 m. Step sizes (the amount by which we increment distances, times, etc.) are related to our precise of an answer we need."
   ]
  },
  {
   "cell_type": "markdown",
   "metadata": {},
   "source": [
    "#### 4.) Sometimes we need to put code examples in the Markdown comments. Markdown offers special code highlighting. In otherwords, if we tell Markdown which programming language we're providing an example of (i.e. Python) it will highlight the syntax just like IDLE and Jupyter would\n",
    "\n",
    "#### Use Markdown's Code and Syntax Highlighting to write the following in Python (2 points)\n",
    "the statement \n",
    "\n",
    "vel = vel + 1\n",
    "\n",
    "can also be written as\n",
    "\n",
    "vel += 1\n",
    "\n",
    "print(vel)\n",
    "\n",
    "```python\n",
    "# the statement\n",
    "vel = vel + 1\n",
    "# can also be written as\n",
    "vel += 1\n",
    "print(vel)\n",
    "```"
   ]
  },
  {
   "cell_type": "markdown",
   "metadata": {},
   "source": [
    "#### 5.) and 6.) Python printed out the velocities as it went along, ending on 26.25 m/s, which gets us close to our desired 70 m. These print statements are ok, but now that we know the answer we can summarize it in a Markdown table for future readers of our notebook. Create a Markdown table with two rows and two columns. The first row will be the headers and will have the labels \"Initial Velocity (m/s)\" and \"Distance (meters)\". The second row will contain our results: 26.25 m/s and 72.4 m. (2 points)\n",
    "\n",
    "#### Place a horizontal line between this text and the table you create (2 points)\n",
    "\n",
    "***\n",
    "\n",
    "| Initial Velocity (m/s)       | Distance (meters) |\n",
    "| ------------- |:-------------:| \n",
    "| 26.25         | 72.4 | "
   ]
  },
  {
   "cell_type": "code",
   "execution_count": null,
   "metadata": {},
   "outputs": [],
   "source": []
  }
 ],
 "metadata": {
  "kernelspec": {
   "display_name": "Python [default]",
   "language": "python",
   "name": "python3"
  },
  "language_info": {
   "codemirror_mode": {
    "name": "ipython",
    "version": 3
   },
   "file_extension": ".py",
   "mimetype": "text/x-python",
   "name": "python",
   "nbconvert_exporter": "python",
   "pygments_lexer": "ipython3",
   "version": "3.6.6"
  }
 },
 "nbformat": 4,
 "nbformat_minor": 2
}
