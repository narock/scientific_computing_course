{
 "cells": [
  {
   "cell_type": "code",
   "execution_count": 1,
   "metadata": {},
   "outputs": [],
   "source": [
    "frequency = {}\n",
    "infile = open(\"big_text_file.txt\", \"r\")\n",
    "for line in infile:\n",
    "    \n",
    "    # convert all letters to lower case\n",
    "    # this way \"the\" matches \"The\"\n",
    "    line = line.lower()\n",
    "    \n",
    "    # replace each punctuation character with a space\n",
    "    for ch in '!\"#$%&()*+,-./:;<=>?@[\\\\]ˆ_‘{|}˜':\n",
    "        line = line.replace(ch, ' ')\n",
    "        \n",
    "    # split string at whitespace to form a list of words\n",
    "    words = line.split()\n",
    "    \n",
    "    # loop over all the words in this line\n",
    "    for word in words:\n",
    "        \n",
    "        # have we seen this word before\n",
    "        if word in frequency:\n",
    "            count = frequency[word]\n",
    "            frequency[word] = count + 1\n",
    "        else:\n",
    "            frequency[word] = 1"
   ]
  },
  {
   "cell_type": "markdown",
   "metadata": {},
   "source": [
    "#### We'll create lists to find the most and least used words. We'll set the most used value to 0 and the least used value to some very large number. Then, we can loop through all the words and their counts. If the count is higher than a current maximum count then that word becomes our new most used word. On the other hand, if the word is less than our least used count it becomes the new least used word"
   ]
  },
  {
   "cell_type": "code",
   "execution_count": 4,
   "metadata": {},
   "outputs": [
    {
     "name": "stdout",
     "output_type": "stream",
     "text": [
      "The most used word is ' the ' it appeared 80003 times\n",
      "The least used word is ' 1661 ' it appeared 1 times\n"
     ]
    }
   ],
   "source": [
    "most=['',0]\n",
    "least=['',999999999]\n",
    "for key, value in frequency.items():\n",
    "    if value > most[1]:\n",
    "        most[0] = key\n",
    "        most[1] = value\n",
    "    if value < least[1]:\n",
    "        least[0] = key\n",
    "        least[1] = value\n",
    "print(\"The most used word is '\", most[0], \"' it appeared\", most[1], \"times\")\n",
    "print(\"The least used word is '\", least[0], \"' it appeared\", least[1], \"times\")"
   ]
  },
  {
   "cell_type": "markdown",
   "metadata": {},
   "source": [
    "#### This approach for finding the most and least used words works just fine, but there is also a more advanced way of doing this in Python. Python has a \"sorted\" function that can sort the values of our diction from highest to lowest. The tricky part is that if you apply sorted to a dictionary then it will sort by key - not value. To get around this, we must first flip the (key,value) to be (value,key) and then sort. We can do that flipping with a loop and we can even combine this step with the sorted step into one command"
   ]
  },
  {
   "cell_type": "code",
   "execution_count": 5,
   "metadata": {},
   "outputs": [
    {
     "name": "stdout",
     "output_type": "stream",
     "text": [
      "(1, \"''tis\")\n",
      "(80003, 'the')\n"
     ]
    }
   ],
   "source": [
    "sorted_d = sorted((value, key) for (key,value) in frequency.items())\n",
    "print(sorted_d[0])\n",
    "print(sorted_d[-1])"
   ]
  },
  {
   "cell_type": "markdown",
   "metadata": {},
   "source": [
    "#### Important Caveat! Notice that the least used word is different. This is because we have multiple words that only appeared once. Which one Python prints out depends on whether we sorted or not. "
   ]
  },
  {
   "cell_type": "code",
   "execution_count": null,
   "metadata": {},
   "outputs": [],
   "source": []
  }
 ],
 "metadata": {
  "kernelspec": {
   "display_name": "Python [default]",
   "language": "python",
   "name": "python3"
  },
  "language_info": {
   "codemirror_mode": {
    "name": "ipython",
    "version": 3
   },
   "file_extension": ".py",
   "mimetype": "text/x-python",
   "name": "python",
   "nbconvert_exporter": "python",
   "pygments_lexer": "ipython3",
   "version": "3.6.6"
  }
 },
 "nbformat": 4,
 "nbformat_minor": 2
}
