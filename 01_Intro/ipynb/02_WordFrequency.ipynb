{
 "cells": [
  {
   "cell_type": "code",
   "execution_count": 8,
   "metadata": {},
   "outputs": [
    {
     "name": "stdout",
     "output_type": "stream",
     "text": [
      "(1, \"''tis\")\n",
      "(80003, 'the')\n"
     ]
    }
   ],
   "source": [
    "frequency = {}\n",
    "infile = open(\"big_text_file.txt\", \"r\")\n",
    "for line in infile:\n",
    "    \n",
    "    # convert all letters to lower case\n",
    "    # this way \"the\" matches \"The\"\n",
    "    line = line.lower()\n",
    "    \n",
    "    # replace each punctuation character with a space\n",
    "    for ch in '!\"#$%&()*+,-./:;<=>?@[\\\\]ˆ_‘{|}˜':\n",
    "        line = line.replace(ch, ' ')\n",
    "        \n",
    "    # split string at whitespace to form a list of words\n",
    "    words = line.split()\n",
    "    \n",
    "    # loop over all the words in this line\n",
    "    for word in words:\n",
    "        \n",
    "        # have we seen this word before\n",
    "        if word in frequency:\n",
    "            count = frequency[word]\n",
    "            frequency[word] = count + 1\n",
    "        else:\n",
    "            frequency[word] = 1\n",
    "\n",
    "sorted_d = sorted((value, key) for (key,value) in frequency.items())\n",
    "print(sorted_d[0])\n",
    "print(sorted_d[-1])"
   ]
  },
  {
   "cell_type": "code",
   "execution_count": null,
   "metadata": {},
   "outputs": [],
   "source": []
  }
 ],
 "metadata": {
  "kernelspec": {
   "display_name": "Python [default]",
   "language": "python",
   "name": "python3"
  },
  "language_info": {
   "codemirror_mode": {
    "name": "ipython",
    "version": 3
   },
   "file_extension": ".py",
   "mimetype": "text/x-python",
   "name": "python",
   "nbconvert_exporter": "python",
   "pygments_lexer": "ipython3",
   "version": "3.6.6"
  }
 },
 "nbformat": 4,
 "nbformat_minor": 2
}
